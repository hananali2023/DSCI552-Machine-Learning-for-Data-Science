{
 "cells": [
  {
   "cell_type": "markdown",
   "id": "68fa92d0",
   "metadata": {},
   "source": [
    "## **Final Project: Text Classification**"
   ]
  },
  {
   "cell_type": "markdown",
   "id": "47e358f6",
   "metadata": {},
   "source": [
    "\n",
    "\n",
    "|                 |               |\n",
    "| --------------  | ------------  |\n",
    "| **Name**            | Hanan Ali     |\n",
    "| **Github Username** | hanan2023     |\n",
    "| **USC ID**          | 1782313333    |\n"
   ]
  },
  {
   "cell_type": "code",
   "execution_count": 1,
   "id": "af106f7c",
   "metadata": {},
   "outputs": [],
   "source": [
    "import os\n",
    "import numpy as np\n",
    "import pandas as pd\n",
    "import tensorflow as tf\n",
    "import re\n",
    "import matplotlib.pyplot as plt\n",
    "import numpy as np\n",
    "from collections import Counter\n",
    "from tensorflow.keras.preprocessing.text import Tokenizer\n",
    "from tensorflow.keras.preprocessing.sequence import pad_sequences\n",
    "from sklearn.model_selection import train_test_split\n",
    "from tensorflow.keras.models import Sequential\n",
    "from tensorflow.keras.layers import Embedding, Flatten, Dense, Dropout, Conv1D, MaxPooling1D, LSTM, MaxPool1D\n",
    "from tensorflow.keras.optimizers import Adam\n",
    "from tensorflow.keras.metrics import Accuracy\n",
    "\n",
    "\n",
    "import warnings\n",
    "warnings.filterwarnings(\"ignore\")"
   ]
  },
  {
   "cell_type": "markdown",
   "id": "28d05552",
   "metadata": {},
   "source": [
    "### **Data Exploration and Pre-Processing** "
   ]
  },
  {
   "cell_type": "code",
   "execution_count": 42,
   "id": "f2057d87",
   "metadata": {
    "scrolled": true
   },
   "outputs": [
    {
     "name": "stdout",
     "output_type": "stream",
     "text": [
      "1400\n",
      "600\n"
     ]
    }
   ],
   "source": [
    "# Encoding for (1, 0)\n",
    "\n",
    "pos_rev = './data/pos'\n",
    "neg_rev = './data/neg'\n",
    "\n",
    "def zero_one_encoding(folder):\n",
    "    train_texts = []\n",
    "    train_labels = []\n",
    "    test_texts = []\n",
    "    test_labels = []\n",
    "    \n",
    "    files = sorted(os.listdir(folder))\n",
    "    #print(\"files found:\", len(files))\n",
    "    #print(\"folder:\", folder)\n",
    "\n",
    "    \n",
    "    for file in files: \n",
    "        #print(\"--file--:\", file)\n",
    "        \n",
    "        if file.startswith('cv'):\n",
    "            number = int(file[2:].split('_')[0])\n",
    "            #print(number)\n",
    "            file_path = os.path.join(folder, file)\n",
    "            with open(file_path, 'r', encoding='utf-8') as f:\n",
    "                content = f.read()\n",
    "\n",
    "            content = re.sub(r'[^\\w\\s]', '', content)  #Removes punctuation\n",
    "            content = re.sub(r'[\\d]', '', content)  #Removes numbers\n",
    "\n",
    "            label = 1 if 'pos' in folder else 0\n",
    "                \n",
    "            if 0 <= number <= 699:\n",
    "                train_texts.append(content)\n",
    "                train_labels.append(label)\n",
    "                #print('added to training:', file, 'label:', label)\n",
    "\n",
    "                #print('name:', content)\n",
    "            elif 700 <= number <= 999: \n",
    "                test_texts.append(content)\n",
    "                test_labels.append(label)\n",
    "                #print('added to testing:', file, 'label:', label)\n",
    "\n",
    "                \n",
    "    return train_texts, train_labels, test_texts, test_labels\n",
    "                    \n",
    "\n",
    "zero_pos_x_train, zero_pos_train_labels, zero_pos_x_test, zero_pos_test_labels = zero_one_encoding(pos_rev) \n",
    "zero_neg_x_train, zero_neg_train_labels, zero_neg_x_test, zero_neg_test_labels = zero_one_encoding(neg_rev)\n",
    "\n",
    "\n",
    "\n",
    "zero_x_train = zero_pos_x_train + zero_neg_x_train\n",
    "zero_x_test = zero_pos_x_test + zero_neg_x_test\n",
    "zero_train_labels = zero_pos_train_labels + zero_neg_train_labels\n",
    "zero_test_labels = zero_pos_test_labels + zero_neg_test_labels\n",
    "\n",
    "zero_combined = zero_x_train + zero_x_test\n",
    "print(len(zero_x_train))\n",
    "print(len(zero_x_test))\n",
    "\n",
    "\n"
   ]
  },
  {
   "cell_type": "code",
   "execution_count": 43,
   "id": "a9403a88",
   "metadata": {},
   "outputs": [
    {
     "name": "stdout",
     "output_type": "stream",
     "text": [
      "1400\n",
      "600\n"
     ]
    }
   ],
   "source": [
    "# Encoding for (1, -1)\n",
    "\n",
    "pos_rev = './data/pos'\n",
    "neg_rev = './data/neg'\n",
    "\n",
    "def neg_one_encoding(folder):\n",
    "    train_texts = []\n",
    "    train_labels = []\n",
    "    test_texts = []\n",
    "    test_labels = []\n",
    "    \n",
    "    files = sorted(os.listdir(folder))\n",
    "    #print(\"files found:\", len(files))\n",
    "    #print(\"folder:\", folder)\n",
    "\n",
    "    \n",
    "    for file in files: \n",
    "        #print(\"--file--:\", file)\n",
    "        \n",
    "        if file.startswith('cv'):\n",
    "            number = int(file[2:].split('_')[0])\n",
    "            #print(number)\n",
    "            file_path = os.path.join(folder, file)\n",
    "            with open(file_path, 'r', encoding='utf-8') as f:\n",
    "                content = f.read()\n",
    "\n",
    "            content = re.sub(r'[^\\w\\s]', '', content)  #Removes punctuation\n",
    "            content = re.sub(r'[\\d]', '', content)  #Removes numbers\n",
    "\n",
    "            label = 1 if 'pos' in folder else -1\n",
    "                \n",
    "            if 0 <= number <= 699:\n",
    "                train_texts.append(content)\n",
    "                train_labels.append(label)\n",
    "                #print('added to training:', file, 'label:', label)\n",
    "\n",
    "                #print('name:', content)\n",
    "            elif 700 <= number <= 999: \n",
    "                test_texts.append(content)\n",
    "                test_labels.append(label)\n",
    "                #print('added to testing:', file, 'label:', label)\n",
    "\n",
    "                \n",
    "    return train_texts, train_labels, test_texts, test_labels\n",
    "                    \n",
    "\n",
    "pos_x_train, pos_train_labels, pos_x_test, pos_test_labels = neg_one_encoding(pos_rev) \n",
    "neg_x_train, neg_train_labels, neg_x_test, neg_test_labels = neg_one_encoding(neg_rev)\n",
    "\n",
    "\n",
    "\n",
    "x_train = pos_x_train + neg_x_train\n",
    "x_test = pos_x_test + neg_x_test\n",
    "train_labels = pos_train_labels + neg_train_labels\n",
    "test_labels = pos_test_labels + neg_test_labels\n",
    "\n",
    "combined = x_train + x_test\n",
    "print(len(x_train))\n",
    "print(len(x_test))\n",
    "\n",
    "\n"
   ]
  },
  {
   "cell_type": "code",
   "execution_count": 45,
   "id": "b8bc452d",
   "metadata": {},
   "outputs": [
    {
     "name": "stdout",
     "output_type": "stream",
     "text": [
      "Number of unique words: 46737\n"
     ]
    }
   ],
   "source": [
    "# Encoding for (1, 0)\n",
    "\n",
    "tokenizer = Tokenizer()\n",
    "tokenizer.fit_on_texts(zero_combined)\n",
    "vocab_size = len(tokenizer.word_index)\n",
    "print(\"Number of unique words:\", vocab_size)"
   ]
  },
  {
   "cell_type": "code",
   "execution_count": 44,
   "id": "71abffbd",
   "metadata": {},
   "outputs": [
    {
     "name": "stdout",
     "output_type": "stream",
     "text": [
      "Number of unique words: 46737\n"
     ]
    }
   ],
   "source": [
    "# Encoding for (1, -1)\n",
    "\n",
    "tokenizer = Tokenizer()\n",
    "tokenizer.fit_on_texts(combined)\n",
    "vocab_size = len(tokenizer.word_index)\n",
    "print(\"Number of unique words:\", vocab_size)"
   ]
  },
  {
   "cell_type": "code",
   "execution_count": 48,
   "id": "498debdf",
   "metadata": {},
   "outputs": [
    {
     "name": "stdout",
     "output_type": "stream",
     "text": [
      "Average review length: 644.36\n",
      "Standard deviation of review lengths: 284.98\n"
     ]
    }
   ],
   "source": [
    "# Encoding for (1, 0)\n",
    "\n",
    "zero_lengths = [len(text.split()) for text in zero_combined]\n",
    "zero_avg_length = np.mean(zero_lengths)\n",
    "zero_std_length = np.std(zero_lengths)\n",
    "\n",
    "print(f\"Average review length: {zero_avg_length:.2f}\")\n",
    "print(f\"Standard deviation of review lengths: {zero_std_length:.2f}\")"
   ]
  },
  {
   "cell_type": "code",
   "execution_count": 49,
   "id": "fc47bd4b",
   "metadata": {},
   "outputs": [
    {
     "name": "stdout",
     "output_type": "stream",
     "text": [
      "Average review length: 644.36\n",
      "Standard deviation of review lengths: 284.98\n"
     ]
    }
   ],
   "source": [
    "# Encoding for (1, -1)\n",
    "\n",
    "lengths = [len(text.split()) for text in combined]\n",
    "avg_length = np.mean(lengths)\n",
    "std_length = np.std(lengths)\n",
    "\n",
    "print(f\"Average review length: {avg_length:.2f}\")\n",
    "print(f\"Standard deviation of review lengths: {std_length:.2f}\")"
   ]
  },
  {
   "cell_type": "code",
   "execution_count": 50,
   "id": "3ba74e27",
   "metadata": {
    "scrolled": false
   },
   "outputs": [
    {
     "data": {
      "image/png": "[encoded data removed]",
      "text/plain": [
       "<Figure size 640x480 with 1 Axes>"
      ]
     },
     "metadata": {},
     "output_type": "display_data"
    }
   ],
   "source": [
    "plt.hist(zero_lengths, bins=30)\n",
    "plt.title('Histogram of Review Lengths for (1, 0)')\n",
    "plt.xlabel('Length of Reviews')\n",
    "plt.ylabel('Number of Reviews')\n",
    "plt.show()"
   ]
  },
  {
   "cell_type": "code",
   "execution_count": 51,
   "id": "2efc6eaa",
   "metadata": {
    "scrolled": false
   },
   "outputs": [
    {
     "data": {
      "image/png": "[encoded data removed]",
      "text/plain": [
       "<Figure size 640x480 with 1 Axes>"
      ]
     },
     "metadata": {},
     "output_type": "display_data"
    }
   ],
   "source": [
    "plt.hist(lengths, bins=30)\n",
    "plt.title('Histogram of Review Lengths for (1, -1)')\n",
    "plt.xlabel('Length of Reviews')\n",
    "plt.ylabel('Number of Reviews')\n",
    "plt.show()"
   ]
  },
  {
   "cell_type": "code",
   "execution_count": 52,
   "id": "d209a589",
   "metadata": {},
   "outputs": [],
   "source": [
    "x_train_list = [str(item) for item in x_train]\n",
    "x_test_list = [str(item) for item in x_test]\n",
    "\n",
    "zero_x_train_list = [str(item) for item in zero_x_train]\n",
    "zero_x_test_list = [str(item) for item in zero_x_test]"
   ]
  },
  {
   "cell_type": "code",
   "execution_count": 53,
   "id": "2d302df2",
   "metadata": {},
   "outputs": [],
   "source": [
    "# Tokenize and pad sequences for encoding (1, 0)\n",
    "\n",
    "max_review_length = int(np.percentile(zero_lengths, 70))  # 70% threshold\n",
    "#max_review_length = int(np.percentile(review_lengths, 90))  # 90% threshold\n",
    "\n",
    "tokenizer = Tokenizer()\n",
    "tokenizer.fit_on_texts(zero_x_train_list)\n",
    "\n",
    "\n",
    "zero_input_words = len(tokenizer.word_index) + 1  \n",
    "\n",
    "zero_train_data_tokenized = tokenizer.texts_to_sequences(zero_x_train_list)\n",
    "zero_test_data_tokenized = tokenizer.texts_to_sequences(zero_x_test_list)\n",
    "\n",
    "\n",
    "zero_max_sequence_length = max(len(seq) for seq in zero_train_data_tokenized + zero_test_data_tokenized)\n",
    "\n",
    "\n",
    "zero_train_data_padded = pad_sequences(zero_train_data_tokenized, maxlen=zero_max_sequence_length, padding='post')\n",
    "zero_test_data_padded = pad_sequences(zero_test_data_tokenized, maxlen=zero_max_sequence_length, padding='post')\n",
    "\n"
   ]
  },
  {
   "cell_type": "code",
   "execution_count": 54,
   "id": "1b283199",
   "metadata": {},
   "outputs": [],
   "source": [
    "# Tokenize and pad sequences for encoding (1, -1)\n",
    "\n",
    "max_review_length = int(np.percentile(lengths, 70))  # 70% threshold\n",
    "#max_review_length = int(np.percentile(review_lengths, 90))  # 90% threshold\n",
    "\n",
    "tokenizer = Tokenizer()\n",
    "tokenizer.fit_on_texts(x_train_list)\n",
    "\n",
    "\n",
    "input_words = len(tokenizer.word_index) + 1  \n",
    "\n",
    "train_data_tokenized = tokenizer.texts_to_sequences(x_train_list)\n",
    "test_data_tokenized = tokenizer.texts_to_sequences(x_test_list)\n",
    "\n",
    "\n",
    "max_sequence_length = max(len(seq) for seq in train_data_tokenized + test_data_tokenized)\n",
    "\n",
    "\n",
    "train_data_padded = pad_sequences(train_data_tokenized, maxlen=max_sequence_length, padding='post')\n",
    "test_data_padded = pad_sequences(test_data_tokenized, maxlen=max_sequence_length, padding='post')\n",
    "\n"
   ]
  },
  {
   "cell_type": "code",
   "execution_count": 55,
   "id": "65595fd3",
   "metadata": {},
   "outputs": [],
   "source": [
    "#Most frequent words\n",
    "word_counts = Counter()\n",
    "for document in combined:\n",
    "    words = document.split()\n",
    "    word_counts.update(words)\n",
    "\n",
    "sorted_word_freq = sorted(word_counts.items(), key=lambda x: x[1], reverse=True)\n",
    "\n",
    "\n",
    "top_5000_words = sorted_word_freq[:5000]\n",
    "\n",
    "top_5000_words_list = [word for word, _ in sorted_word_freq[:5000]]\n",
    "\n",
    "#print(top_5000_words_list)\n",
    "\n",
    "\n",
    "most_frequent_words = pd.DataFrame(sorted_word_freq, columns=['Word', 'Frequency'])\n"
   ]
  },
  {
   "cell_type": "code",
   "execution_count": 63,
   "id": "7af7e04f",
   "metadata": {},
   "outputs": [],
   "source": [
    "# Encoding for (1, -1)\n",
    "\n",
    "tokenizer = Tokenizer()\n",
    "tokenizer.fit_on_texts(top_5000_words_list)\n",
    "sequences = tokenizer.texts_to_sequences(top_5000_words_list)\n"
   ]
  },
  {
   "cell_type": "code",
   "execution_count": 65,
   "id": "8270dcfa",
   "metadata": {},
   "outputs": [],
   "source": [
    "# Encoding for (1, 0)\n",
    "\n",
    "tokenizer = Tokenizer()\n",
    "tokenizer.fit_on_texts(top_5000_words_list)\n",
    "zero_sequences = tokenizer.texts_to_sequences(top_5000_words_list)\n"
   ]
  },
  {
   "cell_type": "code",
   "execution_count": 66,
   "id": "0d2d1661",
   "metadata": {},
   "outputs": [
    {
     "name": "stdout",
     "output_type": "stream",
     "text": [
      "review length L (70th percentile): 737\n",
      "review length L (90th percentile): 993\n"
     ]
    }
   ],
   "source": [
    "#Encoding for (1, -1)\n",
    "\n",
    "L = int(np.percentile(lengths, 70))\n",
    "print(f\"review length L (70th percentile): {L}\")\n",
    "\n",
    "L_90 = int(np.percentile(lengths, 90))\n",
    "print(f\"review length L (90th percentile): {L_90}\")"
   ]
  },
  {
   "cell_type": "code",
   "execution_count": 67,
   "id": "858c0784",
   "metadata": {},
   "outputs": [
    {
     "name": "stdout",
     "output_type": "stream",
     "text": [
      "review length L (70th percentile): 737\n",
      "review length L (90th percentile): 993\n"
     ]
    }
   ],
   "source": [
    "# Encoding for (1, 0)\n",
    "zero_L = int(np.percentile(zero_lengths, 70))\n",
    "print(f\"review length L (70th percentile): {L}\")\n",
    "\n",
    "zero_L_90 = int(np.percentile(zero_lengths, 90))\n",
    "print(f\"review length L (90th percentile): {L_90}\")"
   ]
  },
  {
   "cell_type": "code",
   "execution_count": 68,
   "id": "9d2f942a",
   "metadata": {},
   "outputs": [
    {
     "name": "stdout",
     "output_type": "stream",
     "text": [
      "padded sequence: [1 0 0 0 0 0 0 0 0 0 0 0 0 0 0 0 0 0 0 0 0 0 0 0 0 0 0 0 0 0 0 0 0 0 0 0 0\n",
      " 0 0 0 0 0 0 0 0 0 0 0 0 0 0 0 0 0 0 0 0 0 0 0 0 0 0 0 0 0 0 0 0 0 0 0 0 0\n",
      " 0 0 0 0 0 0 0 0 0 0 0 0 0 0 0 0 0 0 0 0 0 0 0 0 0 0 0 0 0 0 0 0 0 0 0 0 0\n",
      " 0 0 0 0 0 0 0 0 0 0 0 0 0 0 0 0 0 0 0 0 0 0 0 0 0 0 0 0 0 0 0 0 0 0 0 0 0\n",
      " 0 0 0 0 0 0 0 0 0 0 0 0 0 0 0 0 0 0 0 0 0 0 0 0 0 0 0 0 0 0 0 0 0 0 0 0 0\n",
      " 0 0 0 0 0 0 0 0 0 0 0 0 0 0 0 0 0 0 0 0 0 0 0 0 0 0 0 0 0 0 0 0 0 0 0 0 0\n",
      " 0 0 0 0 0 0 0 0 0 0 0 0 0 0 0 0 0 0 0 0 0 0 0 0 0 0 0 0 0 0 0 0 0 0 0 0 0\n",
      " 0 0 0 0 0 0 0 0 0 0 0 0 0 0 0 0 0 0 0 0 0 0 0 0 0 0 0 0 0 0 0 0 0 0 0 0 0\n",
      " 0 0 0 0 0 0 0 0 0 0 0 0 0 0 0 0 0 0 0 0 0 0 0 0 0 0 0 0 0 0 0 0 0 0 0 0 0\n",
      " 0 0 0 0 0 0 0 0 0 0 0 0 0 0 0 0 0 0 0 0 0 0 0 0 0 0 0 0 0 0 0 0 0 0 0 0 0\n",
      " 0 0 0 0 0 0 0 0 0 0 0 0 0 0 0 0 0 0 0 0 0 0 0 0 0 0 0 0 0 0 0 0 0 0 0 0 0\n",
      " 0 0 0 0 0 0 0 0 0 0 0 0 0 0 0 0 0 0 0 0 0 0 0 0 0 0 0 0 0 0 0 0 0 0 0 0 0\n",
      " 0 0 0 0 0 0 0 0 0 0 0 0 0 0 0 0 0 0 0 0 0 0 0 0 0 0 0 0 0 0 0 0 0 0 0 0 0\n",
      " 0 0 0 0 0 0 0 0 0 0 0 0 0 0 0 0 0 0 0 0 0 0 0 0 0 0 0 0 0 0 0 0 0 0 0 0 0\n",
      " 0 0 0 0 0 0 0 0 0 0 0 0 0 0 0 0 0 0 0 0 0 0 0 0 0 0 0 0 0 0 0 0 0 0 0 0 0\n",
      " 0 0 0 0 0 0 0 0 0 0 0 0 0 0 0 0 0 0 0 0 0 0 0 0 0 0 0 0 0 0 0 0 0 0 0 0 0\n",
      " 0 0 0 0 0 0 0 0 0 0 0 0 0 0 0 0 0 0 0 0 0 0 0 0 0 0 0 0 0 0 0 0 0 0 0 0 0\n",
      " 0 0 0 0 0 0 0 0 0 0 0 0 0 0 0 0 0 0 0 0 0 0 0 0 0 0 0 0 0 0 0 0 0 0 0 0 0\n",
      " 0 0 0 0 0 0 0 0 0 0 0 0 0 0 0 0 0 0 0 0 0 0 0 0 0 0 0 0 0 0 0 0 0 0 0 0 0\n",
      " 0 0 0 0 0 0 0 0 0 0 0 0 0 0 0 0 0 0 0 0 0 0 0 0 0 0 0 0 0 0 0 0 0 0]\n"
     ]
    }
   ],
   "source": [
    "# Encoding for (1, -1)\n",
    "padded_sequences = pad_sequences(sequences, maxlen=L, padding='post', truncating='post')\n",
    "print(\"padded sequence:\", padded_sequences[0])\n"
   ]
  },
  {
   "cell_type": "code",
   "execution_count": 69,
   "id": "d7d8250c",
   "metadata": {},
   "outputs": [
    {
     "name": "stdout",
     "output_type": "stream",
     "text": [
      "padded sequence: [1 0 0 0 0 0 0 0 0 0 0 0 0 0 0 0 0 0 0 0 0 0 0 0 0 0 0 0 0 0 0 0 0 0 0 0 0\n",
      " 0 0 0 0 0 0 0 0 0 0 0 0 0 0 0 0 0 0 0 0 0 0 0 0 0 0 0 0 0 0 0 0 0 0 0 0 0\n",
      " 0 0 0 0 0 0 0 0 0 0 0 0 0 0 0 0 0 0 0 0 0 0 0 0 0 0 0 0 0 0 0 0 0 0 0 0 0\n",
      " 0 0 0 0 0 0 0 0 0 0 0 0 0 0 0 0 0 0 0 0 0 0 0 0 0 0 0 0 0 0 0 0 0 0 0 0 0\n",
      " 0 0 0 0 0 0 0 0 0 0 0 0 0 0 0 0 0 0 0 0 0 0 0 0 0 0 0 0 0 0 0 0 0 0 0 0 0\n",
      " 0 0 0 0 0 0 0 0 0 0 0 0 0 0 0 0 0 0 0 0 0 0 0 0 0 0 0 0 0 0 0 0 0 0 0 0 0\n",
      " 0 0 0 0 0 0 0 0 0 0 0 0 0 0 0 0 0 0 0 0 0 0 0 0 0 0 0 0 0 0 0 0 0 0 0 0 0\n",
      " 0 0 0 0 0 0 0 0 0 0 0 0 0 0 0 0 0 0 0 0 0 0 0 0 0 0 0 0 0 0 0 0 0 0 0 0 0\n",
      " 0 0 0 0 0 0 0 0 0 0 0 0 0 0 0 0 0 0 0 0 0 0 0 0 0 0 0 0 0 0 0 0 0 0 0 0 0\n",
      " 0 0 0 0 0 0 0 0 0 0 0 0 0 0 0 0 0 0 0 0 0 0 0 0 0 0 0 0 0 0 0 0 0 0 0 0 0\n",
      " 0 0 0 0 0 0 0 0 0 0 0 0 0 0 0 0 0 0 0 0 0 0 0 0 0 0 0 0 0 0 0 0 0 0 0 0 0\n",
      " 0 0 0 0 0 0 0 0 0 0 0 0 0 0 0 0 0 0 0 0 0 0 0 0 0 0 0 0 0 0 0 0 0 0 0 0 0\n",
      " 0 0 0 0 0 0 0 0 0 0 0 0 0 0 0 0 0 0 0 0 0 0 0 0 0 0 0 0 0 0 0 0 0 0 0 0 0\n",
      " 0 0 0 0 0 0 0 0 0 0 0 0 0 0 0 0 0 0 0 0 0 0 0 0 0 0 0 0 0 0 0 0 0 0 0 0 0\n",
      " 0 0 0 0 0 0 0 0 0 0 0 0 0 0 0 0 0 0 0 0 0 0 0 0 0 0 0 0 0 0 0 0 0 0 0 0 0\n",
      " 0 0 0 0 0 0 0 0 0 0 0 0 0 0 0 0 0 0 0 0 0 0 0 0 0 0 0 0 0 0 0 0 0 0 0 0 0\n",
      " 0 0 0 0 0 0 0 0 0 0 0 0 0 0 0 0 0 0 0 0 0 0 0 0 0 0 0 0 0 0 0 0 0 0 0 0 0\n",
      " 0 0 0 0 0 0 0 0 0 0 0 0 0 0 0 0 0 0 0 0 0 0 0 0 0 0 0 0 0 0 0 0 0 0 0 0 0\n",
      " 0 0 0 0 0 0 0 0 0 0 0 0 0 0 0 0 0 0 0 0 0 0 0 0 0 0 0 0 0 0 0 0 0 0 0 0 0\n",
      " 0 0 0 0 0 0 0 0 0 0 0 0 0 0 0 0 0 0 0 0 0 0 0 0 0 0 0 0 0 0 0 0 0 0]\n"
     ]
    }
   ],
   "source": [
    "zero_padded_sequences = pad_sequences(zero_sequences, maxlen=zero_L, padding='post', truncating='post')\n",
    "print(\"padded sequence:\", zero_padded_sequences[0])\n"
   ]
  },
  {
   "cell_type": "markdown",
   "id": "341f63e2",
   "metadata": {},
   "source": [
    "### **Word Embeddings**"
   ]
  },
  {
   "cell_type": "code",
   "execution_count": 92,
   "id": "4463c392",
   "metadata": {},
   "outputs": [],
   "source": [
    "# Encoding for (1, -1)\n",
    "\n",
    "train_data = np.array(train_data_padded)\n",
    "test_data = np.array(test_data_padded)\n",
    "\n",
    "train_labels = np.array(train_labels)\n",
    "test_labels = np.array(test_labels)\n",
    "\n",
    "#train_labels = np.array(train_labels).reshape(-1, 1)\n",
    "#test_labels = np.array(test_labels).reshape(-1, 1)"
   ]
  },
  {
   "cell_type": "code",
   "execution_count": 70,
   "id": "66f636c2",
   "metadata": {},
   "outputs": [],
   "source": [
    "# Encoding for (1, 0)\n",
    "\n",
    "zero_train_data = np.array(zero_train_data_padded)\n",
    "zero_test_data = np.array(zero_test_data_padded)\n",
    "\n",
    "zero_train_labels = np.array(zero_train_labels)\n",
    "zero_test_labels = np.array(zero_test_labels)\n",
    "\n",
    "#train_labels = np.array(train_labels).reshape(-1, 1)\n",
    "#test_labels = np.array(test_labels).reshape(-1, 1)"
   ]
  },
  {
   "cell_type": "code",
   "execution_count": 79,
   "id": "40cc8efc",
   "metadata": {},
   "outputs": [],
   "source": [
    "model1 = Sequential()\n",
    "model1.add(Embedding(input_dim=input_words, output_dim=32, input_length=L))\n",
    "model1.add(Flatten())\n",
    "model1.add(Dense(1, activation='sigmoid'))"
   ]
  },
  {
   "cell_type": "code",
   "execution_count": 80,
   "id": "59f79a2e",
   "metadata": {},
   "outputs": [],
   "source": [
    "model1.compile(optimizer='adam', loss='binary_crossentropy', metrics=['accuracy'])\n"
   ]
  },
  {
   "cell_type": "code",
   "execution_count": 93,
   "id": "f396c207",
   "metadata": {},
   "outputs": [
    {
     "name": "stdout",
     "output_type": "stream",
     "text": [
      "Epoch 1/2\n",
      "\u001b[1m140/140\u001b[0m \u001b[32m━━━━━━━━━━━━━━━━━━━━\u001b[0m\u001b[37m\u001b[0m \u001b[1m1s\u001b[0m 7ms/step - accuracy: 0.0600 - loss: -2.2830 - val_accuracy: 0.0017 - val_loss: -29.1496\n",
      "Epoch 2/2\n",
      "\u001b[1m140/140\u001b[0m \u001b[32m━━━━━━━━━━━━━━━━━━━━\u001b[0m\u001b[37m\u001b[0m \u001b[1m1s\u001b[0m 7ms/step - accuracy: 0.0126 - loss: -25.7159 - val_accuracy: 0.0017 - val_loss: -123.1781\n"
     ]
    }
   ],
   "source": [
    "#Encoding for (1, -1)\n",
    "trained1 = model1.fit(train_data, train_labels, epochs=2, batch_size=10, validation_data=(test_data, test_labels))\n"
   ]
  },
  {
   "cell_type": "code",
   "execution_count": 94,
   "id": "59d94de0",
   "metadata": {},
   "outputs": [
    {
     "name": "stdout",
     "output_type": "stream",
     "text": [
      "Epoch 1/2\n",
      "\u001b[1m140/140\u001b[0m \u001b[32m━━━━━━━━━━━━━━━━━━━━\u001b[0m\u001b[37m\u001b[0m \u001b[1m1s\u001b[0m 6ms/step - accuracy: 0.6726 - loss: 321.0409 - val_accuracy: 0.5900 - val_loss: 4.6614\n",
      "Epoch 2/2\n",
      "\u001b[1m140/140\u001b[0m \u001b[32m━━━━━━━━━━━━━━━━━━━━\u001b[0m\u001b[37m\u001b[0m \u001b[1m1s\u001b[0m 6ms/step - accuracy: 0.9765 - loss: 0.0999 - val_accuracy: 0.5850 - val_loss: 4.0983\n"
     ]
    }
   ],
   "source": [
    "#Encoding for (1, 0)\n",
    "\n",
    "zero_trained1 = model1.fit(zero_train_data_padded, zero_train_labels, epochs=2, batch_size=10, validation_data=(zero_test_data_padded, zero_test_labels))\n"
   ]
  },
  {
   "cell_type": "code",
   "execution_count": 95,
   "id": "15252730",
   "metadata": {
    "scrolled": true
   },
   "outputs": [
    {
     "data": {
      "text/html": [
       "<pre style=\"white-space:pre;overflow-x:auto;line-height:normal;font-family:Menlo,'DejaVu Sans Mono',consolas,'Courier New',monospace\"><span style=\"font-weight: bold\">Model: \"sequential_6\"</span>\n",
       "</pre>\n"
      ],
      "text/plain": [
       "\u001b[1mModel: \"sequential_6\"\u001b[0m\n"
      ]
     },
     "metadata": {},
     "output_type": "display_data"
    },
    {
     "data": {
      "text/html": [
       "<pre style=\"white-space:pre;overflow-x:auto;line-height:normal;font-family:Menlo,'DejaVu Sans Mono',consolas,'Courier New',monospace\">┏━━━━━━━━━━━━━━━━━━━━━━━━━━━━━━━━━┳━━━━━━━━━━━━━━━━━━━━━━━━┳━━━━━━━━━━━━━━━┓\n",
       "┃<span style=\"font-weight: bold\"> Layer (type)                    </span>┃<span style=\"font-weight: bold\"> Output Shape           </span>┃<span style=\"font-weight: bold\">       Param # </span>┃\n",
       "┡━━━━━━━━━━━━━━━━━━━━━━━━━━━━━━━━━╇━━━━━━━━━━━━━━━━━━━━━━━━╇━━━━━━━━━━━━━━━┩\n",
       "│ embedding_5 (<span style=\"color: #0087ff; text-decoration-color: #0087ff\">Embedding</span>)         │ (<span style=\"color: #00af00; text-decoration-color: #00af00\">10</span>, <span style=\"color: #00af00; text-decoration-color: #00af00\">2363</span>, <span style=\"color: #00af00; text-decoration-color: #00af00\">32</span>)         │     <span style=\"color: #00af00; text-decoration-color: #00af00\">1,265,600</span> │\n",
       "├─────────────────────────────────┼────────────────────────┼───────────────┤\n",
       "│ flatten_4 (<span style=\"color: #0087ff; text-decoration-color: #0087ff\">Flatten</span>)             │ (<span style=\"color: #00af00; text-decoration-color: #00af00\">10</span>, <span style=\"color: #00af00; text-decoration-color: #00af00\">75616</span>)            │             <span style=\"color: #00af00; text-decoration-color: #00af00\">0</span> │\n",
       "├─────────────────────────────────┼────────────────────────┼───────────────┤\n",
       "│ dense_13 (<span style=\"color: #0087ff; text-decoration-color: #0087ff\">Dense</span>)                │ (<span style=\"color: #00af00; text-decoration-color: #00af00\">10</span>, <span style=\"color: #00af00; text-decoration-color: #00af00\">1</span>)                │        <span style=\"color: #00af00; text-decoration-color: #00af00\">75,617</span> │\n",
       "└─────────────────────────────────┴────────────────────────┴───────────────┘\n",
       "</pre>\n"
      ],
      "text/plain": [
       "┏━━━━━━━━━━━━━━━━━━━━━━━━━━━━━━━━━┳━━━━━━━━━━━━━━━━━━━━━━━━┳━━━━━━━━━━━━━━━┓\n",
       "┃\u001b[1m \u001b[0m\u001b[1mLayer (type)                   \u001b[0m\u001b[1m \u001b[0m┃\u001b[1m \u001b[0m\u001b[1mOutput Shape          \u001b[0m\u001b[1m \u001b[0m┃\u001b[1m \u001b[0m\u001b[1m      Param #\u001b[0m\u001b[1m \u001b[0m┃\n",
       "┡━━━━━━━━━━━━━━━━━━━━━━━━━━━━━━━━━╇━━━━━━━━━━━━━━━━━━━━━━━━╇━━━━━━━━━━━━━━━┩\n",
       "│ embedding_5 (\u001b[38;5;33mEmbedding\u001b[0m)         │ (\u001b[38;5;34m10\u001b[0m, \u001b[38;5;34m2363\u001b[0m, \u001b[38;5;34m32\u001b[0m)         │     \u001b[38;5;34m1,265,600\u001b[0m │\n",
       "├─────────────────────────────────┼────────────────────────┼───────────────┤\n",
       "│ flatten_4 (\u001b[38;5;33mFlatten\u001b[0m)             │ (\u001b[38;5;34m10\u001b[0m, \u001b[38;5;34m75616\u001b[0m)            │             \u001b[38;5;34m0\u001b[0m │\n",
       "├─────────────────────────────────┼────────────────────────┼───────────────┤\n",
       "│ dense_13 (\u001b[38;5;33mDense\u001b[0m)                │ (\u001b[38;5;34m10\u001b[0m, \u001b[38;5;34m1\u001b[0m)                │        \u001b[38;5;34m75,617\u001b[0m │\n",
       "└─────────────────────────────────┴────────────────────────┴───────────────┘\n"
      ]
     },
     "metadata": {},
     "output_type": "display_data"
    },
    {
     "data": {
      "text/html": [
       "<pre style=\"white-space:pre;overflow-x:auto;line-height:normal;font-family:Menlo,'DejaVu Sans Mono',consolas,'Courier New',monospace\"><span style=\"font-weight: bold\"> Total params: </span><span style=\"color: #00af00; text-decoration-color: #00af00\">4,023,653</span> (15.35 MB)\n",
       "</pre>\n"
      ],
      "text/plain": [
       "\u001b[1m Total params: \u001b[0m\u001b[38;5;34m4,023,653\u001b[0m (15.35 MB)\n"
      ]
     },
     "metadata": {},
     "output_type": "display_data"
    },
    {
     "data": {
      "text/html": [
       "<pre style=\"white-space:pre;overflow-x:auto;line-height:normal;font-family:Menlo,'DejaVu Sans Mono',consolas,'Courier New',monospace\"><span style=\"font-weight: bold\"> Trainable params: </span><span style=\"color: #00af00; text-decoration-color: #00af00\">1,341,217</span> (5.12 MB)\n",
       "</pre>\n"
      ],
      "text/plain": [
       "\u001b[1m Trainable params: \u001b[0m\u001b[38;5;34m1,341,217\u001b[0m (5.12 MB)\n"
      ]
     },
     "metadata": {},
     "output_type": "display_data"
    },
    {
     "data": {
      "text/html": [
       "<pre style=\"white-space:pre;overflow-x:auto;line-height:normal;font-family:Menlo,'DejaVu Sans Mono',consolas,'Courier New',monospace\"><span style=\"font-weight: bold\"> Non-trainable params: </span><span style=\"color: #00af00; text-decoration-color: #00af00\">0</span> (0.00 B)\n",
       "</pre>\n"
      ],
      "text/plain": [
       "\u001b[1m Non-trainable params: \u001b[0m\u001b[38;5;34m0\u001b[0m (0.00 B)\n"
      ]
     },
     "metadata": {},
     "output_type": "display_data"
    },
    {
     "data": {
      "text/html": [
       "<pre style=\"white-space:pre;overflow-x:auto;line-height:normal;font-family:Menlo,'DejaVu Sans Mono',consolas,'Courier New',monospace\"><span style=\"font-weight: bold\"> Optimizer params: </span><span style=\"color: #00af00; text-decoration-color: #00af00\">2,682,436</span> (10.23 MB)\n",
       "</pre>\n"
      ],
      "text/plain": [
       "\u001b[1m Optimizer params: \u001b[0m\u001b[38;5;34m2,682,436\u001b[0m (10.23 MB)\n"
      ]
     },
     "metadata": {},
     "output_type": "display_data"
    }
   ],
   "source": [
    "model1.summary()"
   ]
  },
  {
   "cell_type": "code",
   "execution_count": 96,
   "id": "c557f0d0",
   "metadata": {},
   "outputs": [
    {
     "name": "stdout",
     "output_type": "stream",
     "text": [
      "\u001b[1m19/19\u001b[0m \u001b[32m━━━━━━━━━━━━━━━━━━━━\u001b[0m\u001b[37m\u001b[0m \u001b[1m0s\u001b[0m 2ms/step - accuracy: 0.6487 - loss: 3.3325 \n",
      "Test loss: 5.7400922775268555\n",
      "Test accuracy: 0.40833333134651184\n"
     ]
    }
   ],
   "source": [
    "# Encoding (1, -1)\n",
    "results = model1.evaluate(test_data_padded, test_labels)\n",
    "print(\"Test loss:\", results[0])\n",
    "print(\"Test accuracy:\", results[1])"
   ]
  },
  {
   "cell_type": "code",
   "execution_count": 97,
   "id": "8a3c8b57",
   "metadata": {},
   "outputs": [
    {
     "name": "stdout",
     "output_type": "stream",
     "text": [
      "\u001b[1m19/19\u001b[0m \u001b[32m━━━━━━━━━━━━━━━━━━━━\u001b[0m\u001b[37m\u001b[0m \u001b[1m0s\u001b[0m 3ms/step - accuracy: 0.7133 - loss: 2.6266 \n",
      "Test loss: 4.098280906677246\n",
      "Test accuracy: 0.5849999785423279\n"
     ]
    }
   ],
   "source": [
    "# Encoding (1, 0)\n",
    "results = model1.evaluate(zero_test_data_padded, zero_test_labels)\n",
    "print(\"Test loss:\", results[0])\n",
    "print(\"Test accuracy:\", results[1])"
   ]
  },
  {
   "cell_type": "code",
   "execution_count": 98,
   "id": "8f6f6ff0",
   "metadata": {},
   "outputs": [
    {
     "name": "stdout",
     "output_type": "stream",
     "text": [
      "\u001b[1m44/44\u001b[0m \u001b[32m━━━━━━━━━━━━━━━━━━━━\u001b[0m\u001b[37m\u001b[0m \u001b[1m0s\u001b[0m 2ms/step - accuracy: 0.8314 - loss: -0.1656\n",
      "\u001b[1m19/19\u001b[0m \u001b[32m━━━━━━━━━━━━━━━━━━━━\u001b[0m\u001b[37m\u001b[0m \u001b[1m0s\u001b[0m 2ms/step - accuracy: 0.7711 - loss: 0.5574 \n"
     ]
    }
   ],
   "source": [
    "# Encoding for (1, -1)\n",
    "train_accuracy = model.evaluate(train_data_padded, train_labels)[1]\n",
    "test_accuracy = model.evaluate(test_data_padded, test_labels)[1]"
   ]
  },
  {
   "cell_type": "code",
   "execution_count": 99,
   "id": "342f0fa4",
   "metadata": {},
   "outputs": [
    {
     "name": "stdout",
     "output_type": "stream",
     "text": [
      "Train accuracy (1, -1): 0.5\n",
      "Test accuracy (1, -1): 0.47333332896232605\n"
     ]
    }
   ],
   "source": [
    "print('Train accuracy (1, -1):', train_accuracy)\n",
    "print('Test accuracy (1, -1):', test_accuracy)"
   ]
  },
  {
   "cell_type": "code",
   "execution_count": 100,
   "id": "f05ee8aa",
   "metadata": {},
   "outputs": [
    {
     "name": "stdout",
     "output_type": "stream",
     "text": [
      "\u001b[1m44/44\u001b[0m \u001b[32m━━━━━━━━━━━━━━━━━━━━\u001b[0m\u001b[37m\u001b[0m \u001b[1m0s\u001b[0m 2ms/step - accuracy: 0.9998 - loss: 0.1067\n",
      "\u001b[1m19/19\u001b[0m \u001b[32m━━━━━━━━━━━━━━━━━━━━\u001b[0m\u001b[37m\u001b[0m \u001b[1m0s\u001b[0m 2ms/step - accuracy: 0.8094 - loss: 0.4923 \n"
     ]
    }
   ],
   "source": [
    "# Encoding for (1, 0)\n",
    "zero_train_accuracy = model.evaluate(zero_train_data_padded, zero_train_labels)[1]\n",
    "zero_test_accuracy = model.evaluate(zero_test_data_padded, zero_test_labels)[1]"
   ]
  },
  {
   "cell_type": "code",
   "execution_count": 101,
   "id": "0e42408f",
   "metadata": {},
   "outputs": [
    {
     "name": "stdout",
     "output_type": "stream",
     "text": [
      "Train accuracy (1, 0): 0.9992856979370117\n",
      "Test accuracy (1, 0): 0.5833333134651184\n"
     ]
    }
   ],
   "source": [
    "print('Train accuracy (1, 0):', zero_train_accuracy)\n",
    "print('Test accuracy (1, 0):', zero_test_accuracy)"
   ]
  },
  {
   "cell_type": "markdown",
   "id": "a62bae32",
   "metadata": {},
   "source": [
    "### **Multi-Layer Perceptron**"
   ]
  },
  {
   "cell_type": "code",
   "execution_count": 102,
   "id": "abab9665",
   "metadata": {},
   "outputs": [],
   "source": [
    "model2 = Sequential([Dense(50, activation='relu', input_shape=(train_data.shape[1],)),\n",
    "                    Dropout(0.2), Dense(50, activation='relu'), Dropout(0.5),\n",
    "                   Dense(50, activation='relu'), Dropout(0.5), Dense(1, activation='sigmoid')])\n"
   ]
  },
  {
   "cell_type": "code",
   "execution_count": 103,
   "id": "40817e4c",
   "metadata": {},
   "outputs": [],
   "source": [
    "model2.compile(optimizer='adam', loss='binary_crossentropy', metrics=['accuracy'])\n"
   ]
  },
  {
   "cell_type": "code",
   "execution_count": 104,
   "id": "a892ef74",
   "metadata": {},
   "outputs": [
    {
     "name": "stdout",
     "output_type": "stream",
     "text": [
      "Epoch 1/2\n",
      "\u001b[1m140/140\u001b[0m \u001b[32m━━━━━━━━━━━━━━━━━━━━\u001b[0m\u001b[37m\u001b[0m \u001b[1m1s\u001b[0m 2ms/step - accuracy: 0.1750 - loss: 952.1291 - val_accuracy: 0.0000e+00 - val_loss: 330.1922\n",
      "Epoch 2/2\n",
      "\u001b[1m140/140\u001b[0m \u001b[32m━━━━━━━━━━━━━━━━━━━━\u001b[0m\u001b[37m\u001b[0m \u001b[1m0s\u001b[0m 2ms/step - accuracy: 0.0093 - loss: -2161.3455 - val_accuracy: 0.0000e+00 - val_loss: -22.5106\n"
     ]
    }
   ],
   "source": [
    "# Encoding for (1, -1)\n",
    "trained2 = model2.fit(train_data, train_labels, epochs=2, batch_size=10, validation_data=(test_data, test_labels))\n",
    "\n",
    "\n"
   ]
  },
  {
   "cell_type": "code",
   "execution_count": 106,
   "id": "e787533f",
   "metadata": {},
   "outputs": [
    {
     "name": "stdout",
     "output_type": "stream",
     "text": [
      "Epoch 1/2\n",
      "\u001b[1m140/140\u001b[0m \u001b[32m━━━━━━━━━━━━━━━━━━━━\u001b[0m\u001b[37m\u001b[0m \u001b[1m0s\u001b[0m 2ms/step - accuracy: 0.5846 - loss: 7355.7793 - val_accuracy: 0.5167 - val_loss: 295.4689\n",
      "Epoch 2/2\n",
      "\u001b[1m140/140\u001b[0m \u001b[32m━━━━━━━━━━━━━━━━━━━━\u001b[0m\u001b[37m\u001b[0m \u001b[1m0s\u001b[0m 2ms/step - accuracy: 0.6213 - loss: 378.7986 - val_accuracy: 0.5367 - val_loss: 108.8510\n"
     ]
    }
   ],
   "source": [
    "# Encoding for (1, 0)\n",
    "zero_trained2 = model2.fit(zero_train_data, zero_train_labels, epochs=2, batch_size=10, validation_data=(zero_test_data, zero_test_labels))\n",
    "\n",
    "\n"
   ]
  },
  {
   "cell_type": "code",
   "execution_count": 107,
   "id": "dfd3e24f",
   "metadata": {
    "scrolled": false
   },
   "outputs": [
    {
     "data": {
      "text/html": [
       "<pre style=\"white-space:pre;overflow-x:auto;line-height:normal;font-family:Menlo,'DejaVu Sans Mono',consolas,'Courier New',monospace\"><span style=\"font-weight: bold\">Model: \"sequential_8\"</span>\n",
       "</pre>\n"
      ],
      "text/plain": [
       "\u001b[1mModel: \"sequential_8\"\u001b[0m\n"
      ]
     },
     "metadata": {},
     "output_type": "display_data"
    },
    {
     "data": {
      "text/html": [
       "<pre style=\"white-space:pre;overflow-x:auto;line-height:normal;font-family:Menlo,'DejaVu Sans Mono',consolas,'Courier New',monospace\">┏━━━━━━━━━━━━━━━━━━━━━━━━━━━━━━━━━┳━━━━━━━━━━━━━━━━━━━━━━━━┳━━━━━━━━━━━━━━━┓\n",
       "┃<span style=\"font-weight: bold\"> Layer (type)                    </span>┃<span style=\"font-weight: bold\"> Output Shape           </span>┃<span style=\"font-weight: bold\">       Param # </span>┃\n",
       "┡━━━━━━━━━━━━━━━━━━━━━━━━━━━━━━━━━╇━━━━━━━━━━━━━━━━━━━━━━━━╇━━━━━━━━━━━━━━━┩\n",
       "│ dense_18 (<span style=\"color: #0087ff; text-decoration-color: #0087ff\">Dense</span>)                │ (<span style=\"color: #00d7ff; text-decoration-color: #00d7ff\">None</span>, <span style=\"color: #00af00; text-decoration-color: #00af00\">50</span>)             │       <span style=\"color: #00af00; text-decoration-color: #00af00\">118,200</span> │\n",
       "├─────────────────────────────────┼────────────────────────┼───────────────┤\n",
       "│ dropout_10 (<span style=\"color: #0087ff; text-decoration-color: #0087ff\">Dropout</span>)            │ (<span style=\"color: #00d7ff; text-decoration-color: #00d7ff\">None</span>, <span style=\"color: #00af00; text-decoration-color: #00af00\">50</span>)             │             <span style=\"color: #00af00; text-decoration-color: #00af00\">0</span> │\n",
       "├─────────────────────────────────┼────────────────────────┼───────────────┤\n",
       "│ dense_19 (<span style=\"color: #0087ff; text-decoration-color: #0087ff\">Dense</span>)                │ (<span style=\"color: #00d7ff; text-decoration-color: #00d7ff\">None</span>, <span style=\"color: #00af00; text-decoration-color: #00af00\">50</span>)             │         <span style=\"color: #00af00; text-decoration-color: #00af00\">2,550</span> │\n",
       "├─────────────────────────────────┼────────────────────────┼───────────────┤\n",
       "│ dropout_11 (<span style=\"color: #0087ff; text-decoration-color: #0087ff\">Dropout</span>)            │ (<span style=\"color: #00d7ff; text-decoration-color: #00d7ff\">None</span>, <span style=\"color: #00af00; text-decoration-color: #00af00\">50</span>)             │             <span style=\"color: #00af00; text-decoration-color: #00af00\">0</span> │\n",
       "├─────────────────────────────────┼────────────────────────┼───────────────┤\n",
       "│ dense_20 (<span style=\"color: #0087ff; text-decoration-color: #0087ff\">Dense</span>)                │ (<span style=\"color: #00d7ff; text-decoration-color: #00d7ff\">None</span>, <span style=\"color: #00af00; text-decoration-color: #00af00\">50</span>)             │         <span style=\"color: #00af00; text-decoration-color: #00af00\">2,550</span> │\n",
       "├─────────────────────────────────┼────────────────────────┼───────────────┤\n",
       "│ dropout_12 (<span style=\"color: #0087ff; text-decoration-color: #0087ff\">Dropout</span>)            │ (<span style=\"color: #00d7ff; text-decoration-color: #00d7ff\">None</span>, <span style=\"color: #00af00; text-decoration-color: #00af00\">50</span>)             │             <span style=\"color: #00af00; text-decoration-color: #00af00\">0</span> │\n",
       "├─────────────────────────────────┼────────────────────────┼───────────────┤\n",
       "│ dense_21 (<span style=\"color: #0087ff; text-decoration-color: #0087ff\">Dense</span>)                │ (<span style=\"color: #00d7ff; text-decoration-color: #00d7ff\">None</span>, <span style=\"color: #00af00; text-decoration-color: #00af00\">1</span>)              │            <span style=\"color: #00af00; text-decoration-color: #00af00\">51</span> │\n",
       "└─────────────────────────────────┴────────────────────────┴───────────────┘\n",
       "</pre>\n"
      ],
      "text/plain": [
       "┏━━━━━━━━━━━━━━━━━━━━━━━━━━━━━━━━━┳━━━━━━━━━━━━━━━━━━━━━━━━┳━━━━━━━━━━━━━━━┓\n",
       "┃\u001b[1m \u001b[0m\u001b[1mLayer (type)                   \u001b[0m\u001b[1m \u001b[0m┃\u001b[1m \u001b[0m\u001b[1mOutput Shape          \u001b[0m\u001b[1m \u001b[0m┃\u001b[1m \u001b[0m\u001b[1m      Param #\u001b[0m\u001b[1m \u001b[0m┃\n",
       "┡━━━━━━━━━━━━━━━━━━━━━━━━━━━━━━━━━╇━━━━━━━━━━━━━━━━━━━━━━━━╇━━━━━━━━━━━━━━━┩\n",
       "│ dense_18 (\u001b[38;5;33mDense\u001b[0m)                │ (\u001b[38;5;45mNone\u001b[0m, \u001b[38;5;34m50\u001b[0m)             │       \u001b[38;5;34m118,200\u001b[0m │\n",
       "├─────────────────────────────────┼────────────────────────┼───────────────┤\n",
       "│ dropout_10 (\u001b[38;5;33mDropout\u001b[0m)            │ (\u001b[38;5;45mNone\u001b[0m, \u001b[38;5;34m50\u001b[0m)             │             \u001b[38;5;34m0\u001b[0m │\n",
       "├─────────────────────────────────┼────────────────────────┼───────────────┤\n",
       "│ dense_19 (\u001b[38;5;33mDense\u001b[0m)                │ (\u001b[38;5;45mNone\u001b[0m, \u001b[38;5;34m50\u001b[0m)             │         \u001b[38;5;34m2,550\u001b[0m │\n",
       "├─────────────────────────────────┼────────────────────────┼───────────────┤\n",
       "│ dropout_11 (\u001b[38;5;33mDropout\u001b[0m)            │ (\u001b[38;5;45mNone\u001b[0m, \u001b[38;5;34m50\u001b[0m)             │             \u001b[38;5;34m0\u001b[0m │\n",
       "├─────────────────────────────────┼────────────────────────┼───────────────┤\n",
       "│ dense_20 (\u001b[38;5;33mDense\u001b[0m)                │ (\u001b[38;5;45mNone\u001b[0m, \u001b[38;5;34m50\u001b[0m)             │         \u001b[38;5;34m2,550\u001b[0m │\n",
       "├─────────────────────────────────┼────────────────────────┼───────────────┤\n",
       "│ dropout_12 (\u001b[38;5;33mDropout\u001b[0m)            │ (\u001b[38;5;45mNone\u001b[0m, \u001b[38;5;34m50\u001b[0m)             │             \u001b[38;5;34m0\u001b[0m │\n",
       "├─────────────────────────────────┼────────────────────────┼───────────────┤\n",
       "│ dense_21 (\u001b[38;5;33mDense\u001b[0m)                │ (\u001b[38;5;45mNone\u001b[0m, \u001b[38;5;34m1\u001b[0m)              │            \u001b[38;5;34m51\u001b[0m │\n",
       "└─────────────────────────────────┴────────────────────────┴───────────────┘\n"
      ]
     },
     "metadata": {},
     "output_type": "display_data"
    },
    {
     "data": {
      "text/html": [
       "<pre style=\"white-space:pre;overflow-x:auto;line-height:normal;font-family:Menlo,'DejaVu Sans Mono',consolas,'Courier New',monospace\"><span style=\"font-weight: bold\"> Total params: </span><span style=\"color: #00af00; text-decoration-color: #00af00\">370,055</span> (1.41 MB)\n",
       "</pre>\n"
      ],
      "text/plain": [
       "\u001b[1m Total params: \u001b[0m\u001b[38;5;34m370,055\u001b[0m (1.41 MB)\n"
      ]
     },
     "metadata": {},
     "output_type": "display_data"
    },
    {
     "data": {
      "text/html": [
       "<pre style=\"white-space:pre;overflow-x:auto;line-height:normal;font-family:Menlo,'DejaVu Sans Mono',consolas,'Courier New',monospace\"><span style=\"font-weight: bold\"> Trainable params: </span><span style=\"color: #00af00; text-decoration-color: #00af00\">123,351</span> (481.84 KB)\n",
       "</pre>\n"
      ],
      "text/plain": [
       "\u001b[1m Trainable params: \u001b[0m\u001b[38;5;34m123,351\u001b[0m (481.84 KB)\n"
      ]
     },
     "metadata": {},
     "output_type": "display_data"
    },
    {
     "data": {
      "text/html": [
       "<pre style=\"white-space:pre;overflow-x:auto;line-height:normal;font-family:Menlo,'DejaVu Sans Mono',consolas,'Courier New',monospace\"><span style=\"font-weight: bold\"> Non-trainable params: </span><span style=\"color: #00af00; text-decoration-color: #00af00\">0</span> (0.00 B)\n",
       "</pre>\n"
      ],
      "text/plain": [
       "\u001b[1m Non-trainable params: \u001b[0m\u001b[38;5;34m0\u001b[0m (0.00 B)\n"
      ]
     },
     "metadata": {},
     "output_type": "display_data"
    },
    {
     "data": {
      "text/html": [
       "<pre style=\"white-space:pre;overflow-x:auto;line-height:normal;font-family:Menlo,'DejaVu Sans Mono',consolas,'Courier New',monospace\"><span style=\"font-weight: bold\"> Optimizer params: </span><span style=\"color: #00af00; text-decoration-color: #00af00\">246,704</span> (963.69 KB)\n",
       "</pre>\n"
      ],
      "text/plain": [
       "\u001b[1m Optimizer params: \u001b[0m\u001b[38;5;34m246,704\u001b[0m (963.69 KB)\n"
      ]
     },
     "metadata": {},
     "output_type": "display_data"
    }
   ],
   "source": [
    "model2.summary()"
   ]
  },
  {
   "cell_type": "code",
   "execution_count": 108,
   "id": "05e39939",
   "metadata": {},
   "outputs": [
    {
     "name": "stdout",
     "output_type": "stream",
     "text": [
      "\u001b[1m44/44\u001b[0m \u001b[32m━━━━━━━━━━━━━━━━━━━━\u001b[0m\u001b[37m\u001b[0m \u001b[1m0s\u001b[0m 2ms/step - accuracy: 0.8314 - loss: -0.1656\n",
      "\u001b[1m19/19\u001b[0m \u001b[32m━━━━━━━━━━━━━━━━━━━━\u001b[0m\u001b[37m\u001b[0m \u001b[1m0s\u001b[0m 2ms/step - accuracy: 0.7711 - loss: 0.5574 \n"
     ]
    }
   ],
   "source": [
    "# Encoding for (1, -1)\n",
    "train_accuracy2 = model.evaluate(train_data, train_labels)[1]\n",
    "test_accuracy2 = model.evaluate(test_data, test_labels)[1]"
   ]
  },
  {
   "cell_type": "code",
   "execution_count": 109,
   "id": "d06abd1b",
   "metadata": {},
   "outputs": [
    {
     "name": "stdout",
     "output_type": "stream",
     "text": [
      "Train accuracy (1, -1): 0.5\n",
      "Test accuracy (1, -1): 0.47333332896232605\n"
     ]
    }
   ],
   "source": [
    "print('Train accuracy (1, -1):', train_accuracy2)\n",
    "print('Test accuracy (1, -1):', test_accuracy2)"
   ]
  },
  {
   "cell_type": "code",
   "execution_count": 110,
   "id": "891b7094",
   "metadata": {},
   "outputs": [
    {
     "name": "stdout",
     "output_type": "stream",
     "text": [
      "\u001b[1m44/44\u001b[0m \u001b[32m━━━━━━━━━━━━━━━━━━━━\u001b[0m\u001b[37m\u001b[0m \u001b[1m0s\u001b[0m 2ms/step - accuracy: 0.9998 - loss: 0.1067\n",
      "\u001b[1m19/19\u001b[0m \u001b[32m━━━━━━━━━━━━━━━━━━━━\u001b[0m\u001b[37m\u001b[0m \u001b[1m0s\u001b[0m 2ms/step - accuracy: 0.8094 - loss: 0.4923 \n"
     ]
    }
   ],
   "source": [
    "# Encoding for (1, 0)\n",
    "zero_train_accuracy2 = model.evaluate(zero_train_data, zero_train_labels)[1]\n",
    "zero_test_accuracy2 = model.evaluate(zero_test_data, zero_test_labels)[1]"
   ]
  },
  {
   "cell_type": "code",
   "execution_count": 111,
   "id": "417be3d4",
   "metadata": {},
   "outputs": [
    {
     "name": "stdout",
     "output_type": "stream",
     "text": [
      "Train accuracy (1, 0): 0.9992856979370117\n",
      "Test accuracy (1, 0): 0.5833333134651184\n"
     ]
    }
   ],
   "source": [
    "print('Train accuracy (1, 0):', zero_train_accuracy2)\n",
    "print('Test accuracy (1, 0):', zero_test_accuracy2)"
   ]
  },
  {
   "cell_type": "markdown",
   "id": "fdbeb754",
   "metadata": {},
   "source": [
    "### **One-Dimensional Convolutional Neural Network**"
   ]
  },
  {
   "cell_type": "code",
   "execution_count": 112,
   "id": "845a6c85",
   "metadata": {},
   "outputs": [],
   "source": [
    "model3 = Sequential([Embedding(input_dim=input_words, output_dim=32, input_length=L),\n",
    "                   Conv1D(filters=32, kernel_size=3, activation='relu'),\n",
    "                   MaxPool1D(pool_size=2, strides=2),\n",
    "                   Flatten(),\n",
    "                   Dense(50, activation='relu', input_shape=(train_data_padded.shape[1],)),\n",
    "                    Dropout(0.2), Dense(50, activation='relu'), Dropout(0.5),\n",
    "                   Dense(50, activation='relu'), Dropout(0.5), Dense(1, activation='sigmoid')])\n",
    "\n",
    "\n"
   ]
  },
  {
   "cell_type": "code",
   "execution_count": 113,
   "id": "19a32bc2",
   "metadata": {},
   "outputs": [],
   "source": [
    "model3.compile(optimizer='adam', loss='binary_crossentropy', metrics=['accuracy'])\n"
   ]
  },
  {
   "cell_type": "code",
   "execution_count": 115,
   "id": "59dd39e7",
   "metadata": {},
   "outputs": [
    {
     "name": "stdout",
     "output_type": "stream",
     "text": [
      "Epoch 1/2\n",
      "\u001b[1m140/140\u001b[0m \u001b[32m━━━━━━━━━━━━━━━━━━━━\u001b[0m\u001b[37m\u001b[0m \u001b[1m4s\u001b[0m 26ms/step - accuracy: 0.0000e+00 - loss: -236.4061 - val_accuracy: 0.0000e+00 - val_loss: -1606.5935\n",
      "Epoch 2/2\n",
      "\u001b[1m140/140\u001b[0m \u001b[32m━━━━━━━━━━━━━━━━━━━━\u001b[0m\u001b[37m\u001b[0m \u001b[1m4s\u001b[0m 32ms/step - accuracy: 0.0000e+00 - loss: -2496.4851 - val_accuracy: 0.0000e+00 - val_loss: -7828.5386\n"
     ]
    }
   ],
   "source": [
    "# Encoding for (1, -1)\n",
    "trained3 = model3.fit(train_data_padded, train_labels, epochs=2, batch_size=10, validation_data=(test_data_padded, test_labels))\n",
    "\n"
   ]
  },
  {
   "cell_type": "code",
   "execution_count": 116,
   "id": "e0be98e5",
   "metadata": {},
   "outputs": [
    {
     "name": "stdout",
     "output_type": "stream",
     "text": [
      "Epoch 1/2\n",
      "\u001b[1m140/140\u001b[0m \u001b[32m━━━━━━━━━━━━━━━━━━━━\u001b[0m\u001b[37m\u001b[0m \u001b[1m3s\u001b[0m 24ms/step - accuracy: 0.4907 - loss: 19025.3496 - val_accuracy: 0.5000 - val_loss: 7.6168\n",
      "Epoch 2/2\n",
      "\u001b[1m140/140\u001b[0m \u001b[32m━━━━━━━━━━━━━━━━━━━━\u001b[0m\u001b[37m\u001b[0m \u001b[1m3s\u001b[0m 24ms/step - accuracy: 0.4735 - loss: 0.6949 - val_accuracy: 0.5000 - val_loss: 7.6053\n"
     ]
    }
   ],
   "source": [
    "# Encoding for (1, 0)\n",
    "zero_trained3 = model3.fit(zero_train_data_padded, zero_train_labels, epochs=2, batch_size=10, validation_data=(zero_test_data_padded, zero_test_labels))\n",
    "\n"
   ]
  },
  {
   "cell_type": "code",
   "execution_count": 117,
   "id": "5bc26867",
   "metadata": {
    "scrolled": false
   },
   "outputs": [
    {
     "data": {
      "text/html": [
       "<pre style=\"white-space:pre;overflow-x:auto;line-height:normal;font-family:Menlo,'DejaVu Sans Mono',consolas,'Courier New',monospace\"><span style=\"font-weight: bold\">Model: \"sequential_9\"</span>\n",
       "</pre>\n"
      ],
      "text/plain": [
       "\u001b[1mModel: \"sequential_9\"\u001b[0m\n"
      ]
     },
     "metadata": {},
     "output_type": "display_data"
    },
    {
     "data": {
      "text/html": [
       "<pre style=\"white-space:pre;overflow-x:auto;line-height:normal;font-family:Menlo,'DejaVu Sans Mono',consolas,'Courier New',monospace\">┏━━━━━━━━━━━━━━━━━━━━━━━━━━━━━━━━━┳━━━━━━━━━━━━━━━━━━━━━━━━┳━━━━━━━━━━━━━━━┓\n",
       "┃<span style=\"font-weight: bold\"> Layer (type)                    </span>┃<span style=\"font-weight: bold\"> Output Shape           </span>┃<span style=\"font-weight: bold\">       Param # </span>┃\n",
       "┡━━━━━━━━━━━━━━━━━━━━━━━━━━━━━━━━━╇━━━━━━━━━━━━━━━━━━━━━━━━╇━━━━━━━━━━━━━━━┩\n",
       "│ embedding_6 (<span style=\"color: #0087ff; text-decoration-color: #0087ff\">Embedding</span>)         │ (<span style=\"color: #00af00; text-decoration-color: #00af00\">10</span>, <span style=\"color: #00af00; text-decoration-color: #00af00\">2363</span>, <span style=\"color: #00af00; text-decoration-color: #00af00\">32</span>)         │     <span style=\"color: #00af00; text-decoration-color: #00af00\">1,265,600</span> │\n",
       "├─────────────────────────────────┼────────────────────────┼───────────────┤\n",
       "│ conv1d_1 (<span style=\"color: #0087ff; text-decoration-color: #0087ff\">Conv1D</span>)               │ (<span style=\"color: #00af00; text-decoration-color: #00af00\">10</span>, <span style=\"color: #00af00; text-decoration-color: #00af00\">2361</span>, <span style=\"color: #00af00; text-decoration-color: #00af00\">32</span>)         │         <span style=\"color: #00af00; text-decoration-color: #00af00\">3,104</span> │\n",
       "├─────────────────────────────────┼────────────────────────┼───────────────┤\n",
       "│ max_pooling1d_1 (<span style=\"color: #0087ff; text-decoration-color: #0087ff\">MaxPooling1D</span>)  │ (<span style=\"color: #00af00; text-decoration-color: #00af00\">10</span>, <span style=\"color: #00af00; text-decoration-color: #00af00\">1180</span>, <span style=\"color: #00af00; text-decoration-color: #00af00\">32</span>)         │             <span style=\"color: #00af00; text-decoration-color: #00af00\">0</span> │\n",
       "├─────────────────────────────────┼────────────────────────┼───────────────┤\n",
       "│ flatten_5 (<span style=\"color: #0087ff; text-decoration-color: #0087ff\">Flatten</span>)             │ (<span style=\"color: #00af00; text-decoration-color: #00af00\">10</span>, <span style=\"color: #00af00; text-decoration-color: #00af00\">37760</span>)            │             <span style=\"color: #00af00; text-decoration-color: #00af00\">0</span> │\n",
       "├─────────────────────────────────┼────────────────────────┼───────────────┤\n",
       "│ dense_22 (<span style=\"color: #0087ff; text-decoration-color: #0087ff\">Dense</span>)                │ (<span style=\"color: #00af00; text-decoration-color: #00af00\">10</span>, <span style=\"color: #00af00; text-decoration-color: #00af00\">50</span>)               │     <span style=\"color: #00af00; text-decoration-color: #00af00\">1,888,050</span> │\n",
       "├─────────────────────────────────┼────────────────────────┼───────────────┤\n",
       "│ dropout_13 (<span style=\"color: #0087ff; text-decoration-color: #0087ff\">Dropout</span>)            │ (<span style=\"color: #00af00; text-decoration-color: #00af00\">10</span>, <span style=\"color: #00af00; text-decoration-color: #00af00\">50</span>)               │             <span style=\"color: #00af00; text-decoration-color: #00af00\">0</span> │\n",
       "├─────────────────────────────────┼────────────────────────┼───────────────┤\n",
       "│ dense_23 (<span style=\"color: #0087ff; text-decoration-color: #0087ff\">Dense</span>)                │ (<span style=\"color: #00af00; text-decoration-color: #00af00\">10</span>, <span style=\"color: #00af00; text-decoration-color: #00af00\">50</span>)               │         <span style=\"color: #00af00; text-decoration-color: #00af00\">2,550</span> │\n",
       "├─────────────────────────────────┼────────────────────────┼───────────────┤\n",
       "│ dropout_14 (<span style=\"color: #0087ff; text-decoration-color: #0087ff\">Dropout</span>)            │ (<span style=\"color: #00af00; text-decoration-color: #00af00\">10</span>, <span style=\"color: #00af00; text-decoration-color: #00af00\">50</span>)               │             <span style=\"color: #00af00; text-decoration-color: #00af00\">0</span> │\n",
       "├─────────────────────────────────┼────────────────────────┼───────────────┤\n",
       "│ dense_24 (<span style=\"color: #0087ff; text-decoration-color: #0087ff\">Dense</span>)                │ (<span style=\"color: #00af00; text-decoration-color: #00af00\">10</span>, <span style=\"color: #00af00; text-decoration-color: #00af00\">50</span>)               │         <span style=\"color: #00af00; text-decoration-color: #00af00\">2,550</span> │\n",
       "├─────────────────────────────────┼────────────────────────┼───────────────┤\n",
       "│ dropout_15 (<span style=\"color: #0087ff; text-decoration-color: #0087ff\">Dropout</span>)            │ (<span style=\"color: #00af00; text-decoration-color: #00af00\">10</span>, <span style=\"color: #00af00; text-decoration-color: #00af00\">50</span>)               │             <span style=\"color: #00af00; text-decoration-color: #00af00\">0</span> │\n",
       "├─────────────────────────────────┼────────────────────────┼───────────────┤\n",
       "│ dense_25 (<span style=\"color: #0087ff; text-decoration-color: #0087ff\">Dense</span>)                │ (<span style=\"color: #00af00; text-decoration-color: #00af00\">10</span>, <span style=\"color: #00af00; text-decoration-color: #00af00\">1</span>)                │            <span style=\"color: #00af00; text-decoration-color: #00af00\">51</span> │\n",
       "└─────────────────────────────────┴────────────────────────┴───────────────┘\n",
       "</pre>\n"
      ],
      "text/plain": [
       "┏━━━━━━━━━━━━━━━━━━━━━━━━━━━━━━━━━┳━━━━━━━━━━━━━━━━━━━━━━━━┳━━━━━━━━━━━━━━━┓\n",
       "┃\u001b[1m \u001b[0m\u001b[1mLayer (type)                   \u001b[0m\u001b[1m \u001b[0m┃\u001b[1m \u001b[0m\u001b[1mOutput Shape          \u001b[0m\u001b[1m \u001b[0m┃\u001b[1m \u001b[0m\u001b[1m      Param #\u001b[0m\u001b[1m \u001b[0m┃\n",
       "┡━━━━━━━━━━━━━━━━━━━━━━━━━━━━━━━━━╇━━━━━━━━━━━━━━━━━━━━━━━━╇━━━━━━━━━━━━━━━┩\n",
       "│ embedding_6 (\u001b[38;5;33mEmbedding\u001b[0m)         │ (\u001b[38;5;34m10\u001b[0m, \u001b[38;5;34m2363\u001b[0m, \u001b[38;5;34m32\u001b[0m)         │     \u001b[38;5;34m1,265,600\u001b[0m │\n",
       "├─────────────────────────────────┼────────────────────────┼───────────────┤\n",
       "│ conv1d_1 (\u001b[38;5;33mConv1D\u001b[0m)               │ (\u001b[38;5;34m10\u001b[0m, \u001b[38;5;34m2361\u001b[0m, \u001b[38;5;34m32\u001b[0m)         │         \u001b[38;5;34m3,104\u001b[0m │\n",
       "├─────────────────────────────────┼────────────────────────┼───────────────┤\n",
       "│ max_pooling1d_1 (\u001b[38;5;33mMaxPooling1D\u001b[0m)  │ (\u001b[38;5;34m10\u001b[0m, \u001b[38;5;34m1180\u001b[0m, \u001b[38;5;34m32\u001b[0m)         │             \u001b[38;5;34m0\u001b[0m │\n",
       "├─────────────────────────────────┼────────────────────────┼───────────────┤\n",
       "│ flatten_5 (\u001b[38;5;33mFlatten\u001b[0m)             │ (\u001b[38;5;34m10\u001b[0m, \u001b[38;5;34m37760\u001b[0m)            │             \u001b[38;5;34m0\u001b[0m │\n",
       "├─────────────────────────────────┼────────────────────────┼───────────────┤\n",
       "│ dense_22 (\u001b[38;5;33mDense\u001b[0m)                │ (\u001b[38;5;34m10\u001b[0m, \u001b[38;5;34m50\u001b[0m)               │     \u001b[38;5;34m1,888,050\u001b[0m │\n",
       "├─────────────────────────────────┼────────────────────────┼───────────────┤\n",
       "│ dropout_13 (\u001b[38;5;33mDropout\u001b[0m)            │ (\u001b[38;5;34m10\u001b[0m, \u001b[38;5;34m50\u001b[0m)               │             \u001b[38;5;34m0\u001b[0m │\n",
       "├─────────────────────────────────┼────────────────────────┼───────────────┤\n",
       "│ dense_23 (\u001b[38;5;33mDense\u001b[0m)                │ (\u001b[38;5;34m10\u001b[0m, \u001b[38;5;34m50\u001b[0m)               │         \u001b[38;5;34m2,550\u001b[0m │\n",
       "├─────────────────────────────────┼────────────────────────┼───────────────┤\n",
       "│ dropout_14 (\u001b[38;5;33mDropout\u001b[0m)            │ (\u001b[38;5;34m10\u001b[0m, \u001b[38;5;34m50\u001b[0m)               │             \u001b[38;5;34m0\u001b[0m │\n",
       "├─────────────────────────────────┼────────────────────────┼───────────────┤\n",
       "│ dense_24 (\u001b[38;5;33mDense\u001b[0m)                │ (\u001b[38;5;34m10\u001b[0m, \u001b[38;5;34m50\u001b[0m)               │         \u001b[38;5;34m2,550\u001b[0m │\n",
       "├─────────────────────────────────┼────────────────────────┼───────────────┤\n",
       "│ dropout_15 (\u001b[38;5;33mDropout\u001b[0m)            │ (\u001b[38;5;34m10\u001b[0m, \u001b[38;5;34m50\u001b[0m)               │             \u001b[38;5;34m0\u001b[0m │\n",
       "├─────────────────────────────────┼────────────────────────┼───────────────┤\n",
       "│ dense_25 (\u001b[38;5;33mDense\u001b[0m)                │ (\u001b[38;5;34m10\u001b[0m, \u001b[38;5;34m1\u001b[0m)                │            \u001b[38;5;34m51\u001b[0m │\n",
       "└─────────────────────────────────┴────────────────────────┴───────────────┘\n"
      ]
     },
     "metadata": {},
     "output_type": "display_data"
    },
    {
     "data": {
      "text/html": [
       "<pre style=\"white-space:pre;overflow-x:auto;line-height:normal;font-family:Menlo,'DejaVu Sans Mono',consolas,'Courier New',monospace\"><span style=\"font-weight: bold\"> Total params: </span><span style=\"color: #00af00; text-decoration-color: #00af00\">9,485,717</span> (36.19 MB)\n",
       "</pre>\n"
      ],
      "text/plain": [
       "\u001b[1m Total params: \u001b[0m\u001b[38;5;34m9,485,717\u001b[0m (36.19 MB)\n"
      ]
     },
     "metadata": {},
     "output_type": "display_data"
    },
    {
     "data": {
      "text/html": [
       "<pre style=\"white-space:pre;overflow-x:auto;line-height:normal;font-family:Menlo,'DejaVu Sans Mono',consolas,'Courier New',monospace\"><span style=\"font-weight: bold\"> Trainable params: </span><span style=\"color: #00af00; text-decoration-color: #00af00\">3,161,905</span> (12.06 MB)\n",
       "</pre>\n"
      ],
      "text/plain": [
       "\u001b[1m Trainable params: \u001b[0m\u001b[38;5;34m3,161,905\u001b[0m (12.06 MB)\n"
      ]
     },
     "metadata": {},
     "output_type": "display_data"
    },
    {
     "data": {
      "text/html": [
       "<pre style=\"white-space:pre;overflow-x:auto;line-height:normal;font-family:Menlo,'DejaVu Sans Mono',consolas,'Courier New',monospace\"><span style=\"font-weight: bold\"> Non-trainable params: </span><span style=\"color: #00af00; text-decoration-color: #00af00\">0</span> (0.00 B)\n",
       "</pre>\n"
      ],
      "text/plain": [
       "\u001b[1m Non-trainable params: \u001b[0m\u001b[38;5;34m0\u001b[0m (0.00 B)\n"
      ]
     },
     "metadata": {},
     "output_type": "display_data"
    },
    {
     "data": {
      "text/html": [
       "<pre style=\"white-space:pre;overflow-x:auto;line-height:normal;font-family:Menlo,'DejaVu Sans Mono',consolas,'Courier New',monospace\"><span style=\"font-weight: bold\"> Optimizer params: </span><span style=\"color: #00af00; text-decoration-color: #00af00\">6,323,812</span> (24.12 MB)\n",
       "</pre>\n"
      ],
      "text/plain": [
       "\u001b[1m Optimizer params: \u001b[0m\u001b[38;5;34m6,323,812\u001b[0m (24.12 MB)\n"
      ]
     },
     "metadata": {},
     "output_type": "display_data"
    }
   ],
   "source": [
    "model3.summary()"
   ]
  },
  {
   "cell_type": "code",
   "execution_count": 118,
   "id": "28439d97",
   "metadata": {},
   "outputs": [
    {
     "name": "stdout",
     "output_type": "stream",
     "text": [
      "\u001b[1m44/44\u001b[0m \u001b[32m━━━━━━━━━━━━━━━━━━━━\u001b[0m\u001b[37m\u001b[0m \u001b[1m0s\u001b[0m 8ms/step - accuracy: 0.0000e+00 - loss: 1.5601\n",
      "\u001b[1m19/19\u001b[0m \u001b[32m━━━━━━━━━━━━━━━━━━━━\u001b[0m\u001b[37m\u001b[0m \u001b[1m0s\u001b[0m 9ms/step - accuracy: 0.0000e+00 - loss: 5.7020 \n"
     ]
    }
   ],
   "source": [
    "# Encoding for (1, -1)\n",
    "\n",
    "train_accuracy3 = model3.evaluate(train_data_padded, train_labels)[1]\n",
    "test_accuracy3 = model3.evaluate(test_data_padded, test_labels)[1]\n"
   ]
  },
  {
   "cell_type": "code",
   "execution_count": 119,
   "id": "bc56cede",
   "metadata": {},
   "outputs": [
    {
     "name": "stdout",
     "output_type": "stream",
     "text": [
      "Train accuracy (1, -1): 0.0\n",
      "Test accruacy (1, -1): 0.0\n"
     ]
    }
   ],
   "source": [
    "print('Train accuracy (1, -1):', train_accuracy3)\n",
    "print('Test accruacy (1, -1):', test_accuracy3)"
   ]
  },
  {
   "cell_type": "code",
   "execution_count": 121,
   "id": "e41bceb9",
   "metadata": {},
   "outputs": [
    {
     "name": "stdout",
     "output_type": "stream",
     "text": [
      "\u001b[1m44/44\u001b[0m \u001b[32m━━━━━━━━━━━━━━━━━━━━\u001b[0m\u001b[37m\u001b[0m \u001b[1m0s\u001b[0m 7ms/step - accuracy: 0.1686 - loss: 4.1224\n",
      "\u001b[1m19/19\u001b[0m \u001b[32m━━━━━━━━━━━━━━━━━━━━\u001b[0m\u001b[37m\u001b[0m \u001b[1m0s\u001b[0m 6ms/step - accuracy: 0.1877 - loss: 15.7835   \n"
     ]
    }
   ],
   "source": [
    "# Encoding for (1, 0)\n",
    "\n",
    "zero_train_accuracy3 = model3.evaluate(zero_train_data_padded, zero_train_labels)[1]\n",
    "zero_test_accuracy3 = model3.evaluate(zero_test_data_padded, zero_test_labels)[1]\n"
   ]
  },
  {
   "cell_type": "code",
   "execution_count": 122,
   "id": "32d370cb",
   "metadata": {},
   "outputs": [
    {
     "name": "stdout",
     "output_type": "stream",
     "text": [
      "Train accuracy (1, 0): 0.5\n",
      "Test accruacy (1, 0): 0.5\n"
     ]
    }
   ],
   "source": [
    "print('Train accuracy (1, 0):', zero_train_accuracy3)\n",
    "print('Test accruacy (1, 0):', zero_test_accuracy3)"
   ]
  },
  {
   "cell_type": "markdown",
   "id": "6df26a22",
   "metadata": {},
   "source": [
    "### **Long Short-Term Memory Recurrent Neural Network**"
   ]
  },
  {
   "cell_type": "code",
   "execution_count": 123,
   "id": "4399657e",
   "metadata": {},
   "outputs": [],
   "source": [
    "LSTM_words = 1099\n",
    "input_length = 100"
   ]
  },
  {
   "cell_type": "code",
   "execution_count": 125,
   "id": "60e19b1e",
   "metadata": {},
   "outputs": [],
   "source": [
    "model4 = Sequential([Embedding(input_dim=input_words, output_dim=32, input_length=input_length),\n",
    "                   LSTM(units=256, dropout=0.2, recurrent_dropout=0.2),\n",
    "                   Dense(256, activation='relu'),\n",
    "                   Dropout(0.2),\n",
    "                   Dense(1, activation='sigmoid')])"
   ]
  },
  {
   "cell_type": "code",
   "execution_count": 126,
   "id": "bfacdd72",
   "metadata": {},
   "outputs": [],
   "source": [
    "model4.compile(optimizer='adam', loss='binary_crossentropy', metrics=['accuracy'])"
   ]
  },
  {
   "cell_type": "code",
   "execution_count": 127,
   "id": "fd122873",
   "metadata": {},
   "outputs": [
    {
     "name": "stdout",
     "output_type": "stream",
     "text": [
      "Epoch 1/2\n",
      "\u001b[1m140/140\u001b[0m \u001b[32m━━━━━━━━━━━━━━━━━━━━\u001b[0m\u001b[37m\u001b[0m \u001b[1m395s\u001b[0m 3s/step - accuracy: 0.0000e+00 - loss: 0.3111 - val_accuracy: 0.0000e+00 - val_loss: 0.0169\n",
      "Epoch 2/2\n",
      "\u001b[1m140/140\u001b[0m \u001b[32m━━━━━━━━━━━━━━━━━━━━\u001b[0m\u001b[37m\u001b[0m \u001b[1m286s\u001b[0m 2s/step - accuracy: 0.0000e+00 - loss: 0.0285 - val_accuracy: 0.0000e+00 - val_loss: 0.0089\n"
     ]
    }
   ],
   "source": [
    "# Encoding for (1, -1)\n",
    "trained4 = model4.fit(train_data, train_labels, epochs=2, batch_size=10, validation_data=(test_data, test_labels))\n",
    "\n",
    "\n",
    "\n"
   ]
  },
  {
   "cell_type": "code",
   "execution_count": 128,
   "id": "c6d00434",
   "metadata": {},
   "outputs": [
    {
     "name": "stdout",
     "output_type": "stream",
     "text": [
      "Epoch 1/2\n",
      "\u001b[1m140/140\u001b[0m \u001b[32m━━━━━━━━━━━━━━━━━━━━\u001b[0m\u001b[37m\u001b[0m \u001b[1m1091s\u001b[0m 8s/step - accuracy: 0.5198 - loss: 1.0970 - val_accuracy: 0.5000 - val_loss: 0.6931\n",
      "Epoch 2/2\n",
      "\u001b[1m140/140\u001b[0m \u001b[32m━━━━━━━━━━━━━━━━━━━━\u001b[0m\u001b[37m\u001b[0m \u001b[1m318s\u001b[0m 2s/step - accuracy: 0.5069 - loss: 0.6943 - val_accuracy: 0.5000 - val_loss: 0.6931\n"
     ]
    }
   ],
   "source": [
    "# Encoding for (1, 0)\n",
    "zero_trained4 = model4.fit(zero_train_data, zero_train_labels, epochs=2, batch_size=10, validation_data=(zero_test_data, zero_test_labels))\n",
    "\n",
    "\n",
    "\n"
   ]
  },
  {
   "cell_type": "code",
   "execution_count": 129,
   "id": "a001476d",
   "metadata": {
    "scrolled": false
   },
   "outputs": [
    {
     "data": {
      "text/html": [
       "<pre style=\"white-space:pre;overflow-x:auto;line-height:normal;font-family:Menlo,'DejaVu Sans Mono',consolas,'Courier New',monospace\"><span style=\"font-weight: bold\">Model: \"sequential_11\"</span>\n",
       "</pre>\n"
      ],
      "text/plain": [
       "\u001b[1mModel: \"sequential_11\"\u001b[0m\n"
      ]
     },
     "metadata": {},
     "output_type": "display_data"
    },
    {
     "data": {
      "text/html": [
       "<pre style=\"white-space:pre;overflow-x:auto;line-height:normal;font-family:Menlo,'DejaVu Sans Mono',consolas,'Courier New',monospace\">┏━━━━━━━━━━━━━━━━━━━━━━━━━━━━━━━━━┳━━━━━━━━━━━━━━━━━━━━━━━━┳━━━━━━━━━━━━━━━┓\n",
       "┃<span style=\"font-weight: bold\"> Layer (type)                    </span>┃<span style=\"font-weight: bold\"> Output Shape           </span>┃<span style=\"font-weight: bold\">       Param # </span>┃\n",
       "┡━━━━━━━━━━━━━━━━━━━━━━━━━━━━━━━━━╇━━━━━━━━━━━━━━━━━━━━━━━━╇━━━━━━━━━━━━━━━┩\n",
       "│ embedding_8 (<span style=\"color: #0087ff; text-decoration-color: #0087ff\">Embedding</span>)         │ (<span style=\"color: #00af00; text-decoration-color: #00af00\">10</span>, <span style=\"color: #00af00; text-decoration-color: #00af00\">2363</span>, <span style=\"color: #00af00; text-decoration-color: #00af00\">32</span>)         │     <span style=\"color: #00af00; text-decoration-color: #00af00\">1,265,600</span> │\n",
       "├─────────────────────────────────┼────────────────────────┼───────────────┤\n",
       "│ lstm_2 (<span style=\"color: #0087ff; text-decoration-color: #0087ff\">LSTM</span>)                   │ (<span style=\"color: #00af00; text-decoration-color: #00af00\">10</span>, <span style=\"color: #00af00; text-decoration-color: #00af00\">256</span>)              │       <span style=\"color: #00af00; text-decoration-color: #00af00\">295,936</span> │\n",
       "├─────────────────────────────────┼────────────────────────┼───────────────┤\n",
       "│ dense_28 (<span style=\"color: #0087ff; text-decoration-color: #0087ff\">Dense</span>)                │ (<span style=\"color: #00af00; text-decoration-color: #00af00\">10</span>, <span style=\"color: #00af00; text-decoration-color: #00af00\">256</span>)              │        <span style=\"color: #00af00; text-decoration-color: #00af00\">65,792</span> │\n",
       "├─────────────────────────────────┼────────────────────────┼───────────────┤\n",
       "│ dropout_17 (<span style=\"color: #0087ff; text-decoration-color: #0087ff\">Dropout</span>)            │ (<span style=\"color: #00af00; text-decoration-color: #00af00\">10</span>, <span style=\"color: #00af00; text-decoration-color: #00af00\">256</span>)              │             <span style=\"color: #00af00; text-decoration-color: #00af00\">0</span> │\n",
       "├─────────────────────────────────┼────────────────────────┼───────────────┤\n",
       "│ dense_29 (<span style=\"color: #0087ff; text-decoration-color: #0087ff\">Dense</span>)                │ (<span style=\"color: #00af00; text-decoration-color: #00af00\">10</span>, <span style=\"color: #00af00; text-decoration-color: #00af00\">1</span>)                │           <span style=\"color: #00af00; text-decoration-color: #00af00\">257</span> │\n",
       "└─────────────────────────────────┴────────────────────────┴───────────────┘\n",
       "</pre>\n"
      ],
      "text/plain": [
       "┏━━━━━━━━━━━━━━━━━━━━━━━━━━━━━━━━━┳━━━━━━━━━━━━━━━━━━━━━━━━┳━━━━━━━━━━━━━━━┓\n",
       "┃\u001b[1m \u001b[0m\u001b[1mLayer (type)                   \u001b[0m\u001b[1m \u001b[0m┃\u001b[1m \u001b[0m\u001b[1mOutput Shape          \u001b[0m\u001b[1m \u001b[0m┃\u001b[1m \u001b[0m\u001b[1m      Param #\u001b[0m\u001b[1m \u001b[0m┃\n",
       "┡━━━━━━━━━━━━━━━━━━━━━━━━━━━━━━━━━╇━━━━━━━━━━━━━━━━━━━━━━━━╇━━━━━━━━━━━━━━━┩\n",
       "│ embedding_8 (\u001b[38;5;33mEmbedding\u001b[0m)         │ (\u001b[38;5;34m10\u001b[0m, \u001b[38;5;34m2363\u001b[0m, \u001b[38;5;34m32\u001b[0m)         │     \u001b[38;5;34m1,265,600\u001b[0m │\n",
       "├─────────────────────────────────┼────────────────────────┼───────────────┤\n",
       "│ lstm_2 (\u001b[38;5;33mLSTM\u001b[0m)                   │ (\u001b[38;5;34m10\u001b[0m, \u001b[38;5;34m256\u001b[0m)              │       \u001b[38;5;34m295,936\u001b[0m │\n",
       "├─────────────────────────────────┼────────────────────────┼───────────────┤\n",
       "│ dense_28 (\u001b[38;5;33mDense\u001b[0m)                │ (\u001b[38;5;34m10\u001b[0m, \u001b[38;5;34m256\u001b[0m)              │        \u001b[38;5;34m65,792\u001b[0m │\n",
       "├─────────────────────────────────┼────────────────────────┼───────────────┤\n",
       "│ dropout_17 (\u001b[38;5;33mDropout\u001b[0m)            │ (\u001b[38;5;34m10\u001b[0m, \u001b[38;5;34m256\u001b[0m)              │             \u001b[38;5;34m0\u001b[0m │\n",
       "├─────────────────────────────────┼────────────────────────┼───────────────┤\n",
       "│ dense_29 (\u001b[38;5;33mDense\u001b[0m)                │ (\u001b[38;5;34m10\u001b[0m, \u001b[38;5;34m1\u001b[0m)                │           \u001b[38;5;34m257\u001b[0m │\n",
       "└─────────────────────────────────┴────────────────────────┴───────────────┘\n"
      ]
     },
     "metadata": {},
     "output_type": "display_data"
    },
    {
     "data": {
      "text/html": [
       "<pre style=\"white-space:pre;overflow-x:auto;line-height:normal;font-family:Menlo,'DejaVu Sans Mono',consolas,'Courier New',monospace\"><span style=\"font-weight: bold\"> Total params: </span><span style=\"color: #00af00; text-decoration-color: #00af00\">4,882,757</span> (18.63 MB)\n",
       "</pre>\n"
      ],
      "text/plain": [
       "\u001b[1m Total params: \u001b[0m\u001b[38;5;34m4,882,757\u001b[0m (18.63 MB)\n"
      ]
     },
     "metadata": {},
     "output_type": "display_data"
    },
    {
     "data": {
      "text/html": [
       "<pre style=\"white-space:pre;overflow-x:auto;line-height:normal;font-family:Menlo,'DejaVu Sans Mono',consolas,'Courier New',monospace\"><span style=\"font-weight: bold\"> Trainable params: </span><span style=\"color: #00af00; text-decoration-color: #00af00\">1,627,585</span> (6.21 MB)\n",
       "</pre>\n"
      ],
      "text/plain": [
       "\u001b[1m Trainable params: \u001b[0m\u001b[38;5;34m1,627,585\u001b[0m (6.21 MB)\n"
      ]
     },
     "metadata": {},
     "output_type": "display_data"
    },
    {
     "data": {
      "text/html": [
       "<pre style=\"white-space:pre;overflow-x:auto;line-height:normal;font-family:Menlo,'DejaVu Sans Mono',consolas,'Courier New',monospace\"><span style=\"font-weight: bold\"> Non-trainable params: </span><span style=\"color: #00af00; text-decoration-color: #00af00\">0</span> (0.00 B)\n",
       "</pre>\n"
      ],
      "text/plain": [
       "\u001b[1m Non-trainable params: \u001b[0m\u001b[38;5;34m0\u001b[0m (0.00 B)\n"
      ]
     },
     "metadata": {},
     "output_type": "display_data"
    },
    {
     "data": {
      "text/html": [
       "<pre style=\"white-space:pre;overflow-x:auto;line-height:normal;font-family:Menlo,'DejaVu Sans Mono',consolas,'Courier New',monospace\"><span style=\"font-weight: bold\"> Optimizer params: </span><span style=\"color: #00af00; text-decoration-color: #00af00\">3,255,172</span> (12.42 MB)\n",
       "</pre>\n"
      ],
      "text/plain": [
       "\u001b[1m Optimizer params: \u001b[0m\u001b[38;5;34m3,255,172\u001b[0m (12.42 MB)\n"
      ]
     },
     "metadata": {},
     "output_type": "display_data"
    }
   ],
   "source": [
    "model4.summary()\n"
   ]
  },
  {
   "cell_type": "code",
   "execution_count": 130,
   "id": "c0ef21e8",
   "metadata": {},
   "outputs": [
    {
     "name": "stdout",
     "output_type": "stream",
     "text": [
      "\u001b[1m19/19\u001b[0m \u001b[32m━━━━━━━━━━━━━━━━━━━━\u001b[0m\u001b[37m\u001b[0m \u001b[1m15s\u001b[0m 750ms/step - accuracy: 0.0000e+00 - loss: 0.6936\n",
      "Test accuracy (1, -1): 0.0\n"
     ]
    }
   ],
   "source": [
    "# Encoding for (1, -1)\n",
    "test_loss4, test_accuracy4 = model4.evaluate(test_data_padded, test_labels)\n",
    "print('Test accuracy (1, -1):', test_accuracy4)\n"
   ]
  },
  {
   "cell_type": "code",
   "execution_count": 131,
   "id": "aaef2af2",
   "metadata": {},
   "outputs": [
    {
     "name": "stdout",
     "output_type": "stream",
     "text": [
      "\u001b[1m44/44\u001b[0m \u001b[32m━━━━━━━━━━━━━━━━━━━━\u001b[0m\u001b[37m\u001b[0m \u001b[1m39s\u001b[0m 896ms/step - accuracy: 6.6400e-04 - loss: 0.6938\n",
      "Train accuracy (1, -1): 0.0007142857066355646\n"
     ]
    }
   ],
   "source": [
    "train_loss4, train_accuracy4 = model4.evaluate(train_data_padded, train_labels)\n",
    "print('Train accuracy (1, -1):', train_accuracy4)\n"
   ]
  },
  {
   "cell_type": "code",
   "execution_count": 134,
   "id": "c7d517a2",
   "metadata": {},
   "outputs": [
    {
     "name": "stdout",
     "output_type": "stream",
     "text": [
      "\u001b[1m19/19\u001b[0m \u001b[32m━━━━━━━━━━━━━━━━━━━━\u001b[0m\u001b[37m\u001b[0m \u001b[1m14s\u001b[0m 744ms/step - accuracy: 0.1877 - loss: 0.6943\n",
      "Test accuracy (1, 0): 0.5\n"
     ]
    }
   ],
   "source": [
    "# Encoding for (1, 0)\n",
    "zero_test_loss4, zero_test_accuracy4 = model4.evaluate(zero_test_data_padded, zero_test_labels)\n",
    "print('Test accuracy (1, 0):', zero_test_accuracy4)\n"
   ]
  },
  {
   "cell_type": "code",
   "execution_count": 135,
   "id": "c9623c90",
   "metadata": {},
   "outputs": [
    {
     "name": "stdout",
     "output_type": "stream",
     "text": [
      "\u001b[1m44/44\u001b[0m \u001b[32m━━━━━━━━━━━━━━━━━━━━\u001b[0m\u001b[37m\u001b[0m \u001b[1m35s\u001b[0m 792ms/step - accuracy: 0.1692 - loss: 0.6944\n",
      "Train accuracy (1, 0): 0.5007143020629883\n"
     ]
    }
   ],
   "source": [
    "\n",
    "zero_train_loss4, zero_train_accuracy4 = model4.evaluate(zero_train_data_padded, zero_train_labels)\n",
    "print('Train accuracy (1, 0):', zero_train_accuracy4)\n"
   ]
  },
  {
   "cell_type": "markdown",
   "id": "ba7d9f7d",
   "metadata": {},
   "source": [
    "#### References"
   ]
  },
  {
   "cell_type": "markdown",
   "id": "8475a13b",
   "metadata": {},
   "source": [
    "- Tensorflow/Keras\n",
    "    - Sequential (https://www.tensorflow.org/guide/keras/sequential_model)\n",
    "    - Embedding (https://www.tensorflow.org/api_docs/python/tf/keras/layers/Embedding)\n",
    "    - Dense (https://www.tensorflow.org/api_docs/python/tf/keras/layers/Dense)\n",
    "    - Compile/Fit (https://keras.io/api/models/model_training_apis/)\n",
    "    - Conv1D (https://www.tensorflow.org/api_docs/python/tf/keras/layers/Conv1D)\n",
    "    - MaxPool1D (https://www.tensorflow.org/api_docs/python/tf/keras/layers/MaxPool1D)\n",
    "    - Pad_Sequences (https://www.tensorflow.org/api_docs/python/tf/keras/utils/pad_sequences)\n",
    "    \n",
    "- Docs.Python.org\n",
    "    - Collections (https://docs.python.org/3/library/collections.html)\n",
    "    - Tokenizer (https://docs.python.org/3/library/tokenize.html)\n",
    "    \n",
    "I used stackoverflow for some errors I ran into:\n",
    "    - https://stackoverflow.com/questions/64102020/modulenotfounderror-no-module-named-keras-preprocessing\n",
    "    - https://stackoverflow.com/questions/43288550/iopub-data-rate-exceeded-in-jupyter-notebook-when-viewing-image\n",
    "    - https://stackoverflow.com/questions/60987639/keras-model-output-shape-is-none"
   ]
  },
  {
   "cell_type": "code",
   "execution_count": null,
   "id": "49314fa1",
   "metadata": {},
   "outputs": [],
   "source": []
  }
 ],
 "metadata": {
  "kernelspec": {
   "display_name": "Python 3 (ipykernel)",
   "language": "python",
   "name": "python3"
  },
  "language_info": {
   "codemirror_mode": {
    "name": "ipython",
    "version": 3
   },
   "file_extension": ".py",
   "mimetype": "text/x-python",
   "name": "python",
   "nbconvert_exporter": "python",
   "pygments_lexer": "ipython3",
   "version": "3.11.5"
  }
 },
 "nbformat": 4,
 "nbformat_minor": 5
}
