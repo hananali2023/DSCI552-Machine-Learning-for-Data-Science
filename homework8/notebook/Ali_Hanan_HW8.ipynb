{
 "cells": [
  {
   "cell_type": "markdown",
   "metadata": {},
   "source": [
    "<center><h1>Ali_Hanan_HW8</h1></center>"
   ]
  },
  {
   "cell_type": "markdown",
   "metadata": {},
   "source": [
    "Name: Hanan Ali\n",
    "<br>\n",
    "Github Username: hananali2023\n",
    "<br>\n",
    "USC ID: 1782313333"
   ]
  },
  {
   "cell_type": "markdown",
   "metadata": {},
   "source": [
    "## 1. Supervised, Semi-Supervised, and Unsupervised Learning"
   ]
  },
  {
   "cell_type": "markdown",
   "metadata": {},
   "source": [
    "Import packages"
   ]
  },
  {
   "cell_type": "code",
   "execution_count": 10,
   "metadata": {},
   "outputs": [],
   "source": [
    "import pandas as pd\n",
    "import numpy as np\n",
    "import matplotlib.pyplot as plt\n",
    "from sklearn.metrics import accuracy_score, precision_score, recall_score, f1_score, roc_auc_score, roc_curve, confusion_matrix\n",
    "from sklearn.model_selection import train_test_split, GridSearchCV, cross_val_score\n",
    "from sklearn.preprocessing import StandardScaler\n",
    "from sklearn.svm import LinearSVC\n",
    "from sklearn.pipeline import make_pipeline\n",
    "from sklearn.svm import SVC\n",
    "from sklearn.cluster import KMeans\n",
    "from sklearn.cluster import SpectralClustering\n",
    "from sklearn.metrics import DistanceMetric\n",
    "from sklearn.preprocessing import MinMaxScaler\n",
    "\n",
    "\n",
    "\n",
    "import warnings\n",
    "warnings.filterwarnings(\"ignore\")\n",
    "\n"
   ]
  },
  {
   "cell_type": "markdown",
   "metadata": {},
   "source": [
    "### (a) Download the Breast Cancer Wisconsin (Diagnostic) Data Set"
   ]
  },
  {
   "cell_type": "code",
   "execution_count": 11,
   "metadata": {
    "scrolled": true
   },
   "outputs": [
    {
     "data": {
      "text/html": [
       "<div>\n",
       "<style scoped>\n",
       "    .dataframe tbody tr th:only-of-type {\n",
       "        vertical-align: middle;\n",
       "    }\n",
       "\n",
       "    .dataframe tbody tr th {\n",
       "        vertical-align: top;\n",
       "    }\n",
       "\n",
       "    .dataframe thead th {\n",
       "        text-align: right;\n",
       "    }\n",
       "</style>\n",
       "<table border=\"1\" class=\"dataframe\">\n",
       "  <thead>\n",
       "    <tr style=\"text-align: right;\">\n",
       "      <th></th>\n",
       "      <th>ID</th>\n",
       "      <th>Diagnosis</th>\n",
       "      <th>Mean Radius</th>\n",
       "      <th>Mean Texture</th>\n",
       "      <th>Mean Perimeter</th>\n",
       "      <th>Mean Area</th>\n",
       "      <th>Mean Smoothness</th>\n",
       "      <th>Mean Compactness</th>\n",
       "      <th>Mean Concavity</th>\n",
       "      <th>Mean Concave Points</th>\n",
       "      <th>...</th>\n",
       "      <th>Worst Radius</th>\n",
       "      <th>Worst Texture</th>\n",
       "      <th>Worst Perimeter</th>\n",
       "      <th>Worst Area</th>\n",
       "      <th>Worst Smoothness</th>\n",
       "      <th>Worst Compactness</th>\n",
       "      <th>Worst Concavity</th>\n",
       "      <th>Worst Concave Points</th>\n",
       "      <th>Worst Symmetry</th>\n",
       "      <th>Worst Fractal Dimension</th>\n",
       "    </tr>\n",
       "  </thead>\n",
       "  <tbody>\n",
       "    <tr>\n",
       "      <th>0</th>\n",
       "      <td>842302</td>\n",
       "      <td>M</td>\n",
       "      <td>17.99</td>\n",
       "      <td>10.38</td>\n",
       "      <td>122.80</td>\n",
       "      <td>1001.0</td>\n",
       "      <td>0.11840</td>\n",
       "      <td>0.27760</td>\n",
       "      <td>0.3001</td>\n",
       "      <td>0.14710</td>\n",
       "      <td>...</td>\n",
       "      <td>25.38</td>\n",
       "      <td>17.33</td>\n",
       "      <td>184.60</td>\n",
       "      <td>2019.0</td>\n",
       "      <td>0.1622</td>\n",
       "      <td>0.6656</td>\n",
       "      <td>0.7119</td>\n",
       "      <td>0.2654</td>\n",
       "      <td>0.4601</td>\n",
       "      <td>0.11890</td>\n",
       "    </tr>\n",
       "    <tr>\n",
       "      <th>1</th>\n",
       "      <td>842517</td>\n",
       "      <td>M</td>\n",
       "      <td>20.57</td>\n",
       "      <td>17.77</td>\n",
       "      <td>132.90</td>\n",
       "      <td>1326.0</td>\n",
       "      <td>0.08474</td>\n",
       "      <td>0.07864</td>\n",
       "      <td>0.0869</td>\n",
       "      <td>0.07017</td>\n",
       "      <td>...</td>\n",
       "      <td>24.99</td>\n",
       "      <td>23.41</td>\n",
       "      <td>158.80</td>\n",
       "      <td>1956.0</td>\n",
       "      <td>0.1238</td>\n",
       "      <td>0.1866</td>\n",
       "      <td>0.2416</td>\n",
       "      <td>0.1860</td>\n",
       "      <td>0.2750</td>\n",
       "      <td>0.08902</td>\n",
       "    </tr>\n",
       "    <tr>\n",
       "      <th>2</th>\n",
       "      <td>84300903</td>\n",
       "      <td>M</td>\n",
       "      <td>19.69</td>\n",
       "      <td>21.25</td>\n",
       "      <td>130.00</td>\n",
       "      <td>1203.0</td>\n",
       "      <td>0.10960</td>\n",
       "      <td>0.15990</td>\n",
       "      <td>0.1974</td>\n",
       "      <td>0.12790</td>\n",
       "      <td>...</td>\n",
       "      <td>23.57</td>\n",
       "      <td>25.53</td>\n",
       "      <td>152.50</td>\n",
       "      <td>1709.0</td>\n",
       "      <td>0.1444</td>\n",
       "      <td>0.4245</td>\n",
       "      <td>0.4504</td>\n",
       "      <td>0.2430</td>\n",
       "      <td>0.3613</td>\n",
       "      <td>0.08758</td>\n",
       "    </tr>\n",
       "    <tr>\n",
       "      <th>3</th>\n",
       "      <td>84348301</td>\n",
       "      <td>M</td>\n",
       "      <td>11.42</td>\n",
       "      <td>20.38</td>\n",
       "      <td>77.58</td>\n",
       "      <td>386.1</td>\n",
       "      <td>0.14250</td>\n",
       "      <td>0.28390</td>\n",
       "      <td>0.2414</td>\n",
       "      <td>0.10520</td>\n",
       "      <td>...</td>\n",
       "      <td>14.91</td>\n",
       "      <td>26.50</td>\n",
       "      <td>98.87</td>\n",
       "      <td>567.7</td>\n",
       "      <td>0.2098</td>\n",
       "      <td>0.8663</td>\n",
       "      <td>0.6869</td>\n",
       "      <td>0.2575</td>\n",
       "      <td>0.6638</td>\n",
       "      <td>0.17300</td>\n",
       "    </tr>\n",
       "    <tr>\n",
       "      <th>4</th>\n",
       "      <td>84358402</td>\n",
       "      <td>M</td>\n",
       "      <td>20.29</td>\n",
       "      <td>14.34</td>\n",
       "      <td>135.10</td>\n",
       "      <td>1297.0</td>\n",
       "      <td>0.10030</td>\n",
       "      <td>0.13280</td>\n",
       "      <td>0.1980</td>\n",
       "      <td>0.10430</td>\n",
       "      <td>...</td>\n",
       "      <td>22.54</td>\n",
       "      <td>16.67</td>\n",
       "      <td>152.20</td>\n",
       "      <td>1575.0</td>\n",
       "      <td>0.1374</td>\n",
       "      <td>0.2050</td>\n",
       "      <td>0.4000</td>\n",
       "      <td>0.1625</td>\n",
       "      <td>0.2364</td>\n",
       "      <td>0.07678</td>\n",
       "    </tr>\n",
       "  </tbody>\n",
       "</table>\n",
       "<p>5 rows × 32 columns</p>\n",
       "</div>"
      ],
      "text/plain": [
       "         ID Diagnosis  Mean Radius  Mean Texture  Mean Perimeter  Mean Area  \\\n",
       "0    842302         M        17.99         10.38          122.80     1001.0   \n",
       "1    842517         M        20.57         17.77          132.90     1326.0   \n",
       "2  84300903         M        19.69         21.25          130.00     1203.0   \n",
       "3  84348301         M        11.42         20.38           77.58      386.1   \n",
       "4  84358402         M        20.29         14.34          135.10     1297.0   \n",
       "\n",
       "   Mean Smoothness  Mean Compactness  Mean Concavity  Mean Concave Points  \\\n",
       "0          0.11840           0.27760          0.3001              0.14710   \n",
       "1          0.08474           0.07864          0.0869              0.07017   \n",
       "2          0.10960           0.15990          0.1974              0.12790   \n",
       "3          0.14250           0.28390          0.2414              0.10520   \n",
       "4          0.10030           0.13280          0.1980              0.10430   \n",
       "\n",
       "   ...  Worst Radius  Worst Texture  Worst Perimeter  Worst Area  \\\n",
       "0  ...         25.38          17.33           184.60      2019.0   \n",
       "1  ...         24.99          23.41           158.80      1956.0   \n",
       "2  ...         23.57          25.53           152.50      1709.0   \n",
       "3  ...         14.91          26.50            98.87       567.7   \n",
       "4  ...         22.54          16.67           152.20      1575.0   \n",
       "\n",
       "   Worst Smoothness  Worst Compactness  Worst Concavity  Worst Concave Points  \\\n",
       "0            0.1622             0.6656           0.7119                0.2654   \n",
       "1            0.1238             0.1866           0.2416                0.1860   \n",
       "2            0.1444             0.4245           0.4504                0.2430   \n",
       "3            0.2098             0.8663           0.6869                0.2575   \n",
       "4            0.1374             0.2050           0.4000                0.1625   \n",
       "\n",
       "   Worst Symmetry  Worst Fractal Dimension  \n",
       "0          0.4601                  0.11890  \n",
       "1          0.2750                  0.08902  \n",
       "2          0.3613                  0.08758  \n",
       "3          0.6638                  0.17300  \n",
       "4          0.2364                  0.07678  \n",
       "\n",
       "[5 rows x 32 columns]"
      ]
     },
     "execution_count": 11,
     "metadata": {},
     "output_type": "execute_result"
    }
   ],
   "source": [
    "headers = [\"ID\", \"Diagnosis\", \"Mean Radius\", \"Mean Texture\", \"Mean Perimeter\", \"Mean Area\", \"Mean Smoothness\", \"Mean Compactness\", \"Mean Concavity\", \"Mean Concave Points\", \"Mean Symmetry\", \"Mean Fractal Dimension\", \"Radius SE\", \"Texture SE\", \"Perimeter SE\", \"Area SE\",\n",
    "          \"Smoothness SE\", \"Compactness SE\", \"Concavity SE\", \"Concave Points SE\", \"Symmetry SE\", \"Fractal Dimension SE\", \"Worst Radius\", \"Worst Texture\", \"Worst Perimeter\", \"Worst Area\", \"Worst Smoothness\", \"Worst Compactness\", \"Worst Concavity\", \"Worst Concave Points\",\n",
    "          \"Worst Symmetry\", \"Worst Fractal Dimension\"]\n",
    "data = pd.read_csv(\"../data/wdbc.csv\", names=headers)\n",
    "data.head()"
   ]
  },
  {
   "cell_type": "code",
   "execution_count": 12,
   "metadata": {},
   "outputs": [],
   "source": [
    "data['Diagnosis'] = data['Diagnosis'].replace({'B': 1, 'M': 0})\n",
    "\n",
    "\n",
    "\n",
    "\n",
    "X = data.drop(columns=['Diagnosis', 'ID']).values\n",
    "y = data['Diagnosis'].values"
   ]
  },
  {
   "cell_type": "markdown",
   "metadata": {},
   "source": [
    "### (b) Monte-Carlo Simulation"
   ]
  },
  {
   "cell_type": "markdown",
   "metadata": {},
   "source": [
    "#### (i) Supervised Learning"
   ]
  },
  {
   "cell_type": "code",
   "execution_count": 13,
   "metadata": {},
   "outputs": [
    {
     "data": {
      "text/html": [
       "<div>\n",
       "<style scoped>\n",
       "    .dataframe tbody tr th:only-of-type {\n",
       "        vertical-align: middle;\n",
       "    }\n",
       "\n",
       "    .dataframe tbody tr th {\n",
       "        vertical-align: top;\n",
       "    }\n",
       "\n",
       "    .dataframe thead th {\n",
       "        text-align: right;\n",
       "    }\n",
       "</style>\n",
       "<table border=\"1\" class=\"dataframe\">\n",
       "  <thead>\n",
       "    <tr style=\"text-align: right;\">\n",
       "      <th></th>\n",
       "      <th>Metric</th>\n",
       "      <th>Average</th>\n",
       "    </tr>\n",
       "  </thead>\n",
       "  <tbody>\n",
       "    <tr>\n",
       "      <th>0</th>\n",
       "      <td>Train Accuracy</td>\n",
       "      <td>0.985934</td>\n",
       "    </tr>\n",
       "    <tr>\n",
       "      <th>1</th>\n",
       "      <td>Train Precision</td>\n",
       "      <td>0.982357</td>\n",
       "    </tr>\n",
       "    <tr>\n",
       "      <th>2</th>\n",
       "      <td>Train Recall</td>\n",
       "      <td>0.995439</td>\n",
       "    </tr>\n",
       "    <tr>\n",
       "      <th>3</th>\n",
       "      <td>Train F1 Score</td>\n",
       "      <td>0.988848</td>\n",
       "    </tr>\n",
       "    <tr>\n",
       "      <th>4</th>\n",
       "      <td>Train AUC</td>\n",
       "      <td>0.982719</td>\n",
       "    </tr>\n",
       "    <tr>\n",
       "      <th>5</th>\n",
       "      <td>Test Accuracy</td>\n",
       "      <td>0.972222</td>\n",
       "    </tr>\n",
       "    <tr>\n",
       "      <th>6</th>\n",
       "      <td>Test Precision</td>\n",
       "      <td>0.971582</td>\n",
       "    </tr>\n",
       "    <tr>\n",
       "      <th>7</th>\n",
       "      <td>Test Recall</td>\n",
       "      <td>0.985185</td>\n",
       "    </tr>\n",
       "    <tr>\n",
       "      <th>8</th>\n",
       "      <td>Test F1 Score</td>\n",
       "      <td>0.978207</td>\n",
       "    </tr>\n",
       "    <tr>\n",
       "      <th>9</th>\n",
       "      <td>Test AUC</td>\n",
       "      <td>0.967593</td>\n",
       "    </tr>\n",
       "  </tbody>\n",
       "</table>\n",
       "</div>"
      ],
      "text/plain": [
       "            Metric   Average\n",
       "0   Train Accuracy  0.985934\n",
       "1  Train Precision  0.982357\n",
       "2     Train Recall  0.995439\n",
       "3   Train F1 Score  0.988848\n",
       "4        Train AUC  0.982719\n",
       "5    Test Accuracy  0.972222\n",
       "6   Test Precision  0.971582\n",
       "7      Test Recall  0.985185\n",
       "8    Test F1 Score  0.978207\n",
       "9         Test AUC  0.967593"
      ]
     },
     "execution_count": 13,
     "metadata": {},
     "output_type": "execute_result"
    }
   ],
   "source": [
    "train_accuracy=[]\n",
    "train_precision=[]\n",
    "train_recall=[]\n",
    "train_f1=[]\n",
    "train_auc=[]\n",
    "\n",
    "test_accuracy=[]\n",
    "test_precision=[]\n",
    "test_recall=[]\n",
    "test_f1=[]\n",
    "test_auc=[]\n",
    "\n",
    "\n",
    "for x in range(30):\n",
    "    X_train, X_test, y_train, y_test = train_test_split(X, y, test_size=0.2, stratify=y)\n",
    "    \n",
    "    pipeline=make_pipeline(StandardScaler(), GridSearchCV(LinearSVC(penalty='l1', dual=False), param_grid={'C': [0.01, 0.1, 1, 10, 100]}, cv=5, scoring='accuracy', error_score='raise'))\n",
    "\n",
    "    pipeline.fit(X_train, y_train)\n",
    "    \n",
    "    \n",
    "    y_train_predicted=pipeline.predict(X_train)\n",
    "    y_test_predicted=pipeline.predict(X_test)\n",
    "    \n",
    "    train_accuracy.append(accuracy_score(y_train, y_train_predicted))\n",
    "    train_precision.append(precision_score(y_train, y_train_predicted))\n",
    "    train_recall.append(recall_score(y_train, y_train_predicted))\n",
    "    train_f1.append(f1_score(y_train, y_train_predicted))\n",
    "    train_auc.append(roc_auc_score(y_train, y_train_predicted))\n",
    "    \n",
    "    test_accuracy.append(accuracy_score(y_test, y_test_predicted))\n",
    "    test_precision.append(precision_score(y_test, y_test_predicted))\n",
    "    test_recall.append(recall_score(y_test, y_test_predicted))\n",
    "    test_f1.append(f1_score(y_test, y_test_predicted))\n",
    "    test_auc.append(roc_auc_score(y_test, y_test_predicted))\n",
    "    \n",
    "    \n",
    "avg_train_accuracy = np.mean(train_accuracy)\n",
    "avg_train_precision = np.mean(train_precision)\n",
    "avg_train_recall = np.mean(train_recall)\n",
    "avg_train_f1 = np.mean(train_f1)\n",
    "avg_train_auc = np.mean(train_auc)\n",
    "\n",
    "avg_test_accuracy = np.mean(test_accuracy)\n",
    "avg_test_precision = np.mean(test_precision)\n",
    "avg_test_recall = np.mean(test_recall)\n",
    "avg_test_f1 = np.mean(test_f1)\n",
    "avg_test_auc = np.mean(test_auc)\n",
    "\n",
    "supervised = pd.DataFrame({\n",
    "    'Metric': ['Train Accuracy', 'Train Precision', 'Train Recall', 'Train F1 Score', 'Train AUC',\n",
    "               'Test Accuracy', 'Test Precision', 'Test Recall', 'Test F1 Score', 'Test AUC'],\n",
    "    'Average': [avg_train_accuracy, avg_train_precision, avg_train_recall, avg_train_f1, avg_train_auc,\n",
    "                avg_test_accuracy, avg_test_precision, avg_test_recall, avg_test_f1, avg_test_auc]\n",
    "})\n",
    "\n",
    "\n",
    "supervised\n",
    "\n",
    "\n"
   ]
  },
  {
   "cell_type": "code",
   "execution_count": 14,
   "metadata": {},
   "outputs": [
    {
     "data": {
      "image/png": "[encoded data removed]",
      "text/plain": [
       "<Figure size 640x480 with 1 Axes>"
      ]
     },
     "metadata": {},
     "output_type": "display_data"
    }
   ],
   "source": [
    "#Test ROC\n",
    "fpr, tpr, _ = roc_curve(y_test, y_test_predicted)\n",
    "plt.figure()\n",
    "plt.plot(fpr, tpr, label='ROC Curve (area=%0.2f)' %roc_auc_score(y_test, y_test_predicted))\n",
    "plt.plot([0,1],[0,1], 'k--')\n",
    "plt.title(\"Testing Set ROC\")\n",
    "plt.xlabel('False Positive Rate (FPR)')\n",
    "plt.ylabel(\"True Positive Rate (TPR)\")\n",
    "plt.legend(loc=\"lower right\")\n",
    "plt.show()"
   ]
  },
  {
   "cell_type": "code",
   "execution_count": 15,
   "metadata": {},
   "outputs": [
    {
     "name": "stdout",
     "output_type": "stream",
     "text": [
      "Test Confusion Matrix:\n",
      " [[40  2]\n",
      " [ 2 70]]\n"
     ]
    }
   ],
   "source": [
    "# Test Confusion Matrix\n",
    "conf_matrix = confusion_matrix(y_test, y_test_predicted)\n",
    "print('Test Confusion Matrix:\\n', conf_matrix)"
   ]
  },
  {
   "cell_type": "code",
   "execution_count": 16,
   "metadata": {},
   "outputs": [
    {
     "data": {
      "image/png": "[encoded data removed]",
      "text/plain": [
       "<Figure size 640x480 with 1 Axes>"
      ]
     },
     "metadata": {},
     "output_type": "display_data"
    }
   ],
   "source": [
    "#Train ROC\n",
    "fpr, tpr, _ = roc_curve(y_train, y_train_predicted)\n",
    "plt.figure()\n",
    "plt.plot(fpr, tpr, label='ROC Curve (area=%0.2f)' %roc_auc_score(y_train, y_train_predicted))\n",
    "plt.plot([0,1],[0,1], 'k--')\n",
    "plt.title(\"Training Set ROC\")\n",
    "plt.xlabel('False Positive Rate (FPR)')\n",
    "plt.ylabel(\"True Positive Rate (TPR)\")\n",
    "plt.legend(loc=\"lower right\")\n",
    "plt.show()"
   ]
  },
  {
   "cell_type": "code",
   "execution_count": 17,
   "metadata": {},
   "outputs": [
    {
     "name": "stdout",
     "output_type": "stream",
     "text": [
      "Train Confusion Matrix:\n",
      " [[165   5]\n",
      " [  2 283]]\n"
     ]
    }
   ],
   "source": [
    "# Train Confusion Matrix\n",
    "conf_matrix = confusion_matrix(y_train, y_train_predicted)\n",
    "print('Train Confusion Matrix:\\n', conf_matrix)"
   ]
  },
  {
   "cell_type": "markdown",
   "metadata": {},
   "source": [
    "#### (ii) Semi-Supervised Learning/ Self-training"
   ]
  },
  {
   "cell_type": "code",
   "execution_count": 18,
   "metadata": {},
   "outputs": [],
   "source": [
    "labeled_X = []\n",
    "labeled_y = []\n",
    "unlabeled_X = []\n",
    "unlabeled_y = []\n",
    "\n",
    "\n",
    "for i in range(30):\n",
    "    for label in np.unique(y_train):\n",
    "        X_data = X_train[y_train == label]\n",
    "        y_data = y_train[y_train == label]\n",
    "\n",
    "        X_data_labeled, X_data_unlabeled, y_data_labeled, y_data_unlabeled = train_test_split(X_data, y_data, test_size=0.5)\n",
    "\n",
    "        labeled_X.append(X_data_labeled)\n",
    "        labeled_y.append(y_data_labeled)\n",
    "        unlabeled_X.append(X_data_unlabeled)\n",
    "        unlabeled_y.append(y_data_unlabeled)\n",
    "\n",
    "labeled_X = np.concatenate(labeled_X)\n",
    "labeled_y = np.concatenate(labeled_y)\n",
    "unlabeled_X = np.concatenate(unlabeled_X)\n",
    "unlabeled_y = np.concatenate(unlabeled_y)\n",
    "\n"
   ]
  },
  {
   "cell_type": "markdown",
   "metadata": {},
   "source": [
    "##### (A)"
   ]
  },
  {
   "cell_type": "code",
   "execution_count": 19,
   "metadata": {},
   "outputs": [],
   "source": [
    "train_accuracy1 = []\n",
    "train_precision1 = []\n",
    "train_recall1 = []\n",
    "train_1f1 = []\n",
    "train_auc1 = []\n",
    "\n",
    "test_accuracy1 = []\n",
    "test_precision1 = []\n",
    "test_recall1 = []\n",
    "test_1f1 = []\n",
    "test_auc1 = []"
   ]
  },
  {
   "cell_type": "code",
   "execution_count": 20,
   "metadata": {},
   "outputs": [],
   "source": [
    "\n",
    "\n",
    "param_grid = {'C': [0.1, 1, 10]}\n",
    "\n",
    "svm = SVC(kernel='linear')\n",
    "\n",
    "grid_searchcv = GridSearchCV(svm, param_grid, cv=5)\n",
    "\n",
    "grid_searchcv.fit(labeled_X, labeled_y)\n",
    "\n",
    "svm_best = grid_searchcv.best_estimator_"
   ]
  },
  {
   "cell_type": "markdown",
   "metadata": {},
   "source": [
    "##### (B)"
   ]
  },
  {
   "cell_type": "code",
   "execution_count": null,
   "metadata": {
    "scrolled": true
   },
   "outputs": [],
   "source": [
    "\n",
    "while len(unlabeled_X) > 0:\n",
    "    dist = svm_best.decision_function(unlabeled_X)\n",
    "    farthest = np.argmax(np.abs(dist))\n",
    "        \n",
    "    predict = svm_best.predict(unlabeled_X[farthest].reshape(1, -1))\n",
    "\n",
    "    labeled_X = np.concatenate((labeled_X, unlabeled_X[farthest].reshape(1, -1)))\n",
    "    labeled_y = np.concatenate((labeled_y, predict))\n",
    "\n",
    "    unlabeled_X = np.delete(unlabeled_X, farthest, axis=0)\n",
    "        #unlabeled_y = np.delete(unlabeled_y, farthest)\n",
    "\n",
    "\n",
    "    svm_best.fit(labeled_X, labeled_y)\n",
    "        \n",
    "print(\"Iteration:\", i+1)\n"
   ]
  },
  {
   "cell_type": "code",
   "execution_count": null,
   "metadata": {},
   "outputs": [],
   "source": [
    "#Labeled Train\n",
    "\n",
    "y_train_predicted = svm.predict(labeled_X)\n",
    "\n",
    "train_accuracy1 = accuracy_score(labeled_y, y_train_predicted)\n",
    "train_precision1 = precision_score(labeled_y, y_train_predicted)\n",
    "train_recall1 = recall_score(labeled_y, y_train_predicted)\n",
    "train_1f1 = f1_score(labeled_y, y_train_predicted)\n",
    "train_auc1 = roc_auc_score(labeled_y, y_train_predicted)\n"
   ]
  },
  {
   "cell_type": "code",
   "execution_count": null,
   "metadata": {},
   "outputs": [],
   "source": [
    "#Test\n",
    "\n",
    "y_test_predicted = svm.predict(X_test)\n",
    "\n",
    "test_accuracy1 = accuracy_score(y_test, y_test_predicted)\n",
    "test_precision1 = precision_score(y_test, y_test_predicted)\n",
    "test_recall1 = recall_score(y_test, y_test_predicted)\n",
    "test_1f1 = f1_score(y_test, y_test_predicted)\n",
    "test_auc1 = roc_auc_score(y_test, y_test_predicted)\n"
   ]
  },
  {
   "cell_type": "markdown",
   "metadata": {},
   "source": [
    "#### (iii) Unsupervised Learning"
   ]
  },
  {
   "cell_type": "markdown",
   "metadata": {},
   "source": [
    "##### (A)"
   ]
  },
  {
   "cell_type": "code",
   "execution_count": 22,
   "metadata": {},
   "outputs": [],
   "source": [
    "train_accuracy2 = []\n",
    "train_precision2 = []\n",
    "train_recall2 = []\n",
    "train_2f1 = []\n",
    "train_auc2 = []\n",
    "\n",
    "test_accuracy2 = []\n",
    "test_precision2 = []\n",
    "test_recall2 = []\n",
    "test_2f1 = []\n",
    "test_auc2 = []\n",
    "\n",
    "for i in range(30):\n",
    "\n",
    "    X_train, X_test, y_train, y_test = train_test_split(X, y, test_size=0.2, stratify=y)\n",
    "\n",
    "    kmeans = KMeans(n_clusters=2, init='random')\n",
    "    kmeans.fit(X_train)\n"
   ]
  },
  {
   "cell_type": "markdown",
   "metadata": {},
   "source": [
    "##### (B)"
   ]
  },
  {
   "cell_type": "code",
   "execution_count": 23,
   "metadata": {},
   "outputs": [
    {
     "data": {
      "text/html": [
       "<div>\n",
       "<style scoped>\n",
       "    .dataframe tbody tr th:only-of-type {\n",
       "        vertical-align: middle;\n",
       "    }\n",
       "\n",
       "    .dataframe tbody tr th {\n",
       "        vertical-align: top;\n",
       "    }\n",
       "\n",
       "    .dataframe thead th {\n",
       "        text-align: right;\n",
       "    }\n",
       "</style>\n",
       "<table border=\"1\" class=\"dataframe\">\n",
       "  <thead>\n",
       "    <tr style=\"text-align: right;\">\n",
       "      <th></th>\n",
       "      <th>Metric</th>\n",
       "      <th>Average</th>\n",
       "    </tr>\n",
       "  </thead>\n",
       "  <tbody>\n",
       "    <tr>\n",
       "      <th>0</th>\n",
       "      <td>Test Accuracy</td>\n",
       "      <td>0.368421</td>\n",
       "    </tr>\n",
       "    <tr>\n",
       "      <th>1</th>\n",
       "      <td>Test Precision</td>\n",
       "      <td>0.000000</td>\n",
       "    </tr>\n",
       "    <tr>\n",
       "      <th>2</th>\n",
       "      <td>Test Recall</td>\n",
       "      <td>0.000000</td>\n",
       "    </tr>\n",
       "    <tr>\n",
       "      <th>3</th>\n",
       "      <td>Test F1 Score</td>\n",
       "      <td>0.000000</td>\n",
       "    </tr>\n",
       "    <tr>\n",
       "      <th>4</th>\n",
       "      <td>Test AUC</td>\n",
       "      <td>0.500000</td>\n",
       "    </tr>\n",
       "  </tbody>\n",
       "</table>\n",
       "</div>"
      ],
      "text/plain": [
       "           Metric   Average\n",
       "0   Test Accuracy  0.368421\n",
       "1  Test Precision  0.000000\n",
       "2     Test Recall  0.000000\n",
       "3   Test F1 Score  0.000000\n",
       "4        Test AUC  0.500000"
      ]
     },
     "execution_count": 23,
     "metadata": {},
     "output_type": "execute_result"
    }
   ],
   "source": [
    "for i in range(30):\n",
    "\n",
    "    center = kmeans.cluster_centers_\n",
    "\n",
    "    closest = []\n",
    "    \n",
    "    for c in center:\n",
    "        dist = np.linalg.norm(X_train - c, axis = 1)\n",
    "        closest.append(np.argsort(dist)[:30])\n",
    "\n",
    "    closest_point = [y_train[label] for label in closest]\n",
    "\n",
    "    pred_point = [np.bincount(points).argmax() for points in closest_point]\n",
    "\n",
    "    test_points = np.linalg.norm(X_test[:, np.newaxis, :] - c, axis = 2)\n",
    "\n",
    "    pred_cluster = np.argmin(test_points, axis = 1)\n",
    "\n",
    "    test_predicted_label = [pred_point[cluster] for cluster in pred_cluster]\n",
    "    \n",
    "    accuracy2 = accuracy_score(y_test, test_predicted_label)\n",
    "    precision2 = precision_score(y_test, test_predicted_label)\n",
    "    recall2 = recall_score(y_test, test_predicted_label)\n",
    "    f1_2 = f1_score(y_test, test_predicted_label)\n",
    "    auc2 = roc_auc_score(y_test, test_predicted_label)\n",
    "    conf_matrix = confusion_matrix(y_test, test_predicted_label)\n",
    "    \n",
    "    test_accuracy2.append(accuracy2)\n",
    "    test_precision2.append(precision2)\n",
    "    test_recall2.append(recall2)\n",
    "    test_2f1.append(f1_2)\n",
    "    test_auc2.append(auc2)\n",
    "    \n",
    "    \n",
    "avg_accuracy2 = np.mean(test_accuracy2)\n",
    "avg_precision2 = np.mean(test_precision2)\n",
    "avg_recall2 = np.mean(test_recall2)\n",
    "avg_2f1 = np.mean(test_2f1)\n",
    "avg_auc2 = np.mean(test_auc2)\n",
    "\n",
    "unsupervised = pd.DataFrame({\n",
    "    'Metric': ['Test Accuracy', 'Test Precision', 'Test Recall', 'Test F1 Score', 'Test AUC'],\n",
    "    'Average': [avg_accuracy2, avg_precision2, avg_recall2, avg_2f1, avg_auc2]\n",
    "})\n",
    "    \n",
    "unsupervised\n"
   ]
  },
  {
   "cell_type": "markdown",
   "metadata": {},
   "source": [
    "#### (iv) Spectral Clustering"
   ]
  },
  {
   "cell_type": "code",
   "execution_count": 24,
   "metadata": {},
   "outputs": [],
   "source": [
    "#Balance clusters\n",
    "\n",
    "def balanced_cluster(y_train, label):\n",
    "    count = np.bincount(label)\n",
    "    min_class = np.argmin(count)\n",
    "    maj_class = 1 - min_class\n",
    "    label[y_train == maj_class] = count[min_class]\n",
    "    label[y_train == min_class] = count[min_class]\n",
    "    \n",
    "    \n",
    "test_accuracy3 = []\n",
    "test_precision3 = []\n",
    "test_recall3 = []\n",
    "test_3f1 = []\n",
    "test_auc3 = []"
   ]
  },
  {
   "cell_type": "code",
   "execution_count": 25,
   "metadata": {},
   "outputs": [
    {
     "data": {
      "text/html": [
       "<div>\n",
       "<style scoped>\n",
       "    .dataframe tbody tr th:only-of-type {\n",
       "        vertical-align: middle;\n",
       "    }\n",
       "\n",
       "    .dataframe tbody tr th {\n",
       "        vertical-align: top;\n",
       "    }\n",
       "\n",
       "    .dataframe thead th {\n",
       "        text-align: right;\n",
       "    }\n",
       "</style>\n",
       "<table border=\"1\" class=\"dataframe\">\n",
       "  <thead>\n",
       "    <tr style=\"text-align: right;\">\n",
       "      <th></th>\n",
       "      <th>Metric</th>\n",
       "      <th>Average</th>\n",
       "    </tr>\n",
       "  </thead>\n",
       "  <tbody>\n",
       "    <tr>\n",
       "      <th>0</th>\n",
       "      <td>Test Accuracy</td>\n",
       "      <td>0.377193</td>\n",
       "    </tr>\n",
       "    <tr>\n",
       "      <th>1</th>\n",
       "      <td>Test Precision</td>\n",
       "      <td>0.154464</td>\n",
       "    </tr>\n",
       "    <tr>\n",
       "      <th>2</th>\n",
       "      <td>Test Recall</td>\n",
       "      <td>0.036574</td>\n",
       "    </tr>\n",
       "    <tr>\n",
       "      <th>3</th>\n",
       "      <td>Test F1 Score</td>\n",
       "      <td>0.032932</td>\n",
       "    </tr>\n",
       "    <tr>\n",
       "      <th>4</th>\n",
       "      <td>Test AUC</td>\n",
       "      <td>0.498843</td>\n",
       "    </tr>\n",
       "  </tbody>\n",
       "</table>\n",
       "</div>"
      ],
      "text/plain": [
       "           Metric   Average\n",
       "0   Test Accuracy  0.377193\n",
       "1  Test Precision  0.154464\n",
       "2     Test Recall  0.036574\n",
       "3   Test F1 Score  0.032932\n",
       "4        Test AUC  0.498843"
      ]
     },
     "execution_count": 25,
     "metadata": {},
     "output_type": "execute_result"
    }
   ],
   "source": [
    "for i in range (30):\n",
    "    \n",
    "    spec_clusters = SpectralClustering(n_clusters=2, affinity='rbf', gamma=1)\n",
    "    labels = spec_clusters.fit_predict(X_train)\n",
    "    \n",
    "    balanced_cluster(y_train, labels)\n",
    "\n",
    "    test_predicted_label = spec_clusters.fit_predict(X_test)\n",
    "    \n",
    "    accuracy3 = accuracy_score(y_test, test_predicted_label)\n",
    "    precision3 = precision_score(y_test, test_predicted_label)\n",
    "    recall3 = recall_score(y_test, test_predicted_label)\n",
    "    f1_3 = f1_score(y_test, test_predicted_label)\n",
    "    auc3 = roc_auc_score(y_test, test_predicted_label)\n",
    "    \n",
    "    test_accuracy3.append(accuracy3)\n",
    "    test_precision3.append(precision3)\n",
    "    test_recall3.append(recall3)\n",
    "    test_3f1.append(f1_3)\n",
    "    test_auc3.append(auc3)\n",
    "    \n",
    "avg_accuracy3 = np.mean(test_accuracy3)\n",
    "avg_precision3 = np.mean(test_precision3)\n",
    "avg_recall3 = np.mean(test_recall3)\n",
    "avg_3f1 = np.mean(test_3f1)\n",
    "avg_auc3 = np.mean(test_auc3)\n",
    "\n",
    "spectral = pd.DataFrame({\n",
    "    'Metric': ['Test Accuracy', 'Test Precision', 'Test Recall', 'Test F1 Score', 'Test AUC'],\n",
    "    'Average': [avg_accuracy3, avg_precision3, avg_recall3, avg_3f1, avg_auc3]\n",
    "})\n",
    "    \n",
    "spectral\n",
    "    \n",
    "    "
   ]
  },
  {
   "cell_type": "markdown",
   "metadata": {},
   "source": [
    "#### (iv) Compare"
   ]
  },
  {
   "cell_type": "code",
   "execution_count": 26,
   "metadata": {},
   "outputs": [
    {
     "data": {
      "text/html": [
       "<div>\n",
       "<style scoped>\n",
       "    .dataframe tbody tr th:only-of-type {\n",
       "        vertical-align: middle;\n",
       "    }\n",
       "\n",
       "    .dataframe tbody tr th {\n",
       "        vertical-align: top;\n",
       "    }\n",
       "\n",
       "    .dataframe thead th {\n",
       "        text-align: right;\n",
       "    }\n",
       "</style>\n",
       "<table border=\"1\" class=\"dataframe\">\n",
       "  <thead>\n",
       "    <tr style=\"text-align: right;\">\n",
       "      <th></th>\n",
       "      <th>Metrics</th>\n",
       "      <th>Spectral Clustering</th>\n",
       "      <th>Unsupervised</th>\n",
       "    </tr>\n",
       "  </thead>\n",
       "  <tbody>\n",
       "    <tr>\n",
       "      <th>0</th>\n",
       "      <td>Accuracy</td>\n",
       "      <td>0.377193</td>\n",
       "      <td>0.368421</td>\n",
       "    </tr>\n",
       "    <tr>\n",
       "      <th>1</th>\n",
       "      <td>Precision</td>\n",
       "      <td>0.154464</td>\n",
       "      <td>0.000000</td>\n",
       "    </tr>\n",
       "    <tr>\n",
       "      <th>2</th>\n",
       "      <td>Recall</td>\n",
       "      <td>0.036574</td>\n",
       "      <td>0.000000</td>\n",
       "    </tr>\n",
       "    <tr>\n",
       "      <th>3</th>\n",
       "      <td>F1 Score</td>\n",
       "      <td>0.032932</td>\n",
       "      <td>0.000000</td>\n",
       "    </tr>\n",
       "    <tr>\n",
       "      <th>4</th>\n",
       "      <td>AUC</td>\n",
       "      <td>0.498843</td>\n",
       "      <td>0.500000</td>\n",
       "    </tr>\n",
       "  </tbody>\n",
       "</table>\n",
       "</div>"
      ],
      "text/plain": [
       "     Metrics  Spectral Clustering  Unsupervised\n",
       "0   Accuracy             0.377193      0.368421\n",
       "1  Precision             0.154464      0.000000\n",
       "2     Recall             0.036574      0.000000\n",
       "3   F1 Score             0.032932      0.000000\n",
       "4        AUC             0.498843      0.500000"
      ]
     },
     "execution_count": 26,
     "metadata": {},
     "output_type": "execute_result"
    }
   ],
   "source": [
    "compare = spectral.iloc[:, 1].compare(unsupervised.iloc[:, 1], result_names=('Spectral Clustering', 'Unsupervised'))\n",
    "\n",
    "compare.insert(0, \"Metrics\", ['Accuracy', 'Precision', 'Recall', 'F1 Score', 'AUC'], True )\n",
    "\n",
    "compare"
   ]
  },
  {
   "cell_type": "markdown",
   "metadata": {},
   "source": [
    "## 2. Active Learning Using Support Vector Machines"
   ]
  },
  {
   "cell_type": "markdown",
   "metadata": {},
   "source": [
    "### (a) Download the banknote authentication Data Set"
   ]
  },
  {
   "cell_type": "code",
   "execution_count": 27,
   "metadata": {},
   "outputs": [
    {
     "data": {
      "text/html": [
       "<div>\n",
       "<style scoped>\n",
       "    .dataframe tbody tr th:only-of-type {\n",
       "        vertical-align: middle;\n",
       "    }\n",
       "\n",
       "    .dataframe tbody tr th {\n",
       "        vertical-align: top;\n",
       "    }\n",
       "\n",
       "    .dataframe thead th {\n",
       "        text-align: right;\n",
       "    }\n",
       "</style>\n",
       "<table border=\"1\" class=\"dataframe\">\n",
       "  <thead>\n",
       "    <tr style=\"text-align: right;\">\n",
       "      <th></th>\n",
       "      <th>0</th>\n",
       "      <th>1</th>\n",
       "      <th>2</th>\n",
       "      <th>3</th>\n",
       "      <th>4</th>\n",
       "    </tr>\n",
       "  </thead>\n",
       "  <tbody>\n",
       "    <tr>\n",
       "      <th>0</th>\n",
       "      <td>3.62160</td>\n",
       "      <td>8.6661</td>\n",
       "      <td>-2.8073</td>\n",
       "      <td>-0.44699</td>\n",
       "      <td>0</td>\n",
       "    </tr>\n",
       "    <tr>\n",
       "      <th>1</th>\n",
       "      <td>4.54590</td>\n",
       "      <td>8.1674</td>\n",
       "      <td>-2.4586</td>\n",
       "      <td>-1.46210</td>\n",
       "      <td>0</td>\n",
       "    </tr>\n",
       "    <tr>\n",
       "      <th>2</th>\n",
       "      <td>3.86600</td>\n",
       "      <td>-2.6383</td>\n",
       "      <td>1.9242</td>\n",
       "      <td>0.10645</td>\n",
       "      <td>0</td>\n",
       "    </tr>\n",
       "    <tr>\n",
       "      <th>3</th>\n",
       "      <td>3.45660</td>\n",
       "      <td>9.5228</td>\n",
       "      <td>-4.0112</td>\n",
       "      <td>-3.59440</td>\n",
       "      <td>0</td>\n",
       "    </tr>\n",
       "    <tr>\n",
       "      <th>4</th>\n",
       "      <td>0.32924</td>\n",
       "      <td>-4.4552</td>\n",
       "      <td>4.5718</td>\n",
       "      <td>-0.98880</td>\n",
       "      <td>0</td>\n",
       "    </tr>\n",
       "  </tbody>\n",
       "</table>\n",
       "</div>"
      ],
      "text/plain": [
       "         0       1       2        3  4\n",
       "0  3.62160  8.6661 -2.8073 -0.44699  0\n",
       "1  4.54590  8.1674 -2.4586 -1.46210  0\n",
       "2  3.86600 -2.6383  1.9242  0.10645  0\n",
       "3  3.45660  9.5228 -4.0112 -3.59440  0\n",
       "4  0.32924 -4.4552  4.5718 -0.98880  0"
      ]
     },
     "execution_count": 27,
     "metadata": {},
     "output_type": "execute_result"
    }
   ],
   "source": [
    "data = pd.read_csv('../data/data_banknote_authentication.txt', header=None)\n",
    "data.head()"
   ]
  },
  {
   "cell_type": "code",
   "execution_count": 28,
   "metadata": {},
   "outputs": [],
   "source": [
    "X = data.drop(columns=[4]).values\n",
    "y = data[4].values\n",
    "\n",
    "\n",
    "X_train, X_test, y_train, y_test = train_test_split(X, y, test_size=472, random_state=42)\n"
   ]
  },
  {
   "cell_type": "markdown",
   "metadata": {},
   "source": [
    "### (b) Repeat each of the following two procedures 50 times"
   ]
  },
  {
   "cell_type": "markdown",
   "metadata": {},
   "source": [
    "#### (i) Passive"
   ]
  },
  {
   "cell_type": "code",
   "execution_count": null,
   "metadata": {},
   "outputs": [],
   "source": [
    "passive_test_errors = []\n",
    "select_points = []\n",
    "\n",
    "param_grid = {'C': [0.1, 1, 10]}\n",
    "\n",
    "for iteration in range(50):\n",
    "    points = []\n",
    "    selected_y = []\n",
    "    \n",
    "    \n",
    "    for n_points in range(10, 901, 10):\n",
    "        selected = np.random.choice(len(X_train), size = 10, replace=False)\n",
    "        data_points = X_train[selected]\n",
    "        selected_labels = y_train[selected]\n",
    "        \n",
    "        points.extend(data_points)\n",
    "        selected_y.extend(selected_labels)\n",
    "        select_points.append(len(points))\n",
    "        \n",
    "        svm=GridSearchCV(LinearSVC(penalty = 'l1', dual = False), param_grid, cv=5)\n",
    "        #print(\"points:\", len(points))\n",
    "        #print(\"y_train:\",len(selected_y))\n",
    "        svm.fit(points, selected_y)\n",
    "        \n",
    "        test_error = 1 - np.mean(cross_val_score(svm, X_test, y_test, cv=5))\n",
    "        passive_test_errors.append(test_error)\n",
    "        \n",
    "\n",
    "        \n",
    "        \n",
    "passive_test_error = pd.DataFrame(passive_test_errors, columns=['Test Errors'])\n",
    "        \n",
    "passive_test_error\n",
    "\n",
    "#print(passive_test_errors)"
   ]
  },
  {
   "cell_type": "markdown",
   "metadata": {},
   "source": [
    "#### (ii) Active"
   ]
  },
  {
   "cell_type": "code",
   "execution_count": 40,
   "metadata": {},
   "outputs": [
    {
     "name": "stdout",
     "output_type": "stream",
     "text": [
      "Active_points: 0\n",
      "Active_selected_y: 0\n",
      "Active_points: 10\n",
      "Active_selected_y: 10\n"
     ]
    },
    {
     "ename": "ValueError",
     "evalue": "Found input variables with inconsistent numbers of samples: [20, 10]",
     "output_type": "error",
     "traceback": [
      "\u001b[0;31m---------------------------------------------------------------------------\u001b[0m",
      "\u001b[0;31mValueError\u001b[0m                                Traceback (most recent call last)",
      "Cell \u001b[0;32mIn[40], line 40\u001b[0m\n\u001b[1;32m     37\u001b[0m closest_data_points\u001b[38;5;241m=\u001b[39mX_train[closest_points]\n\u001b[1;32m     39\u001b[0m active_points\u001b[38;5;241m.\u001b[39mextend(closest_data_points)\n\u001b[0;32m---> 40\u001b[0m active_svm\u001b[38;5;241m.\u001b[39mfit(active_points, active_selected_y)\n\u001b[1;32m     42\u001b[0m active_test_error \u001b[38;5;241m=\u001b[39m \u001b[38;5;241m1\u001b[39m \u001b[38;5;241m-\u001b[39m np\u001b[38;5;241m.\u001b[39mmean(cross_val_score(active_svm, X_test, y_test, cv\u001b[38;5;241m=\u001b[39m\u001b[38;5;241m5\u001b[39m))\n\u001b[1;32m     43\u001b[0m active_test_errors\u001b[38;5;241m.\u001b[39mappend(active_test_error)\n",
      "File \u001b[0;32m~/anaconda3/lib/python3.11/site-packages/sklearn/base.py:1474\u001b[0m, in \u001b[0;36m_fit_context.<locals>.decorator.<locals>.wrapper\u001b[0;34m(estimator, *args, **kwargs)\u001b[0m\n\u001b[1;32m   1467\u001b[0m     estimator\u001b[38;5;241m.\u001b[39m_validate_params()\n\u001b[1;32m   1469\u001b[0m \u001b[38;5;28;01mwith\u001b[39;00m config_context(\n\u001b[1;32m   1470\u001b[0m     skip_parameter_validation\u001b[38;5;241m=\u001b[39m(\n\u001b[1;32m   1471\u001b[0m         prefer_skip_nested_validation \u001b[38;5;129;01mor\u001b[39;00m global_skip_validation\n\u001b[1;32m   1472\u001b[0m     )\n\u001b[1;32m   1473\u001b[0m ):\n\u001b[0;32m-> 1474\u001b[0m     \u001b[38;5;28;01mreturn\u001b[39;00m fit_method(estimator, \u001b[38;5;241m*\u001b[39margs, \u001b[38;5;241m*\u001b[39m\u001b[38;5;241m*\u001b[39mkwargs)\n",
      "File \u001b[0;32m~/anaconda3/lib/python3.11/site-packages/sklearn/model_selection/_search.py:874\u001b[0m, in \u001b[0;36mBaseSearchCV.fit\u001b[0;34m(self, X, y, **params)\u001b[0m\n\u001b[1;32m    869\u001b[0m \u001b[38;5;66;03m# Here we keep a dict of scorers as is, and only convert to a\u001b[39;00m\n\u001b[1;32m    870\u001b[0m \u001b[38;5;66;03m# _MultimetricScorer at a later stage. Issue:\u001b[39;00m\n\u001b[1;32m    871\u001b[0m \u001b[38;5;66;03m# https://github.com/scikit-learn/scikit-learn/issues/27001\u001b[39;00m\n\u001b[1;32m    872\u001b[0m scorers, refit_metric \u001b[38;5;241m=\u001b[39m \u001b[38;5;28mself\u001b[39m\u001b[38;5;241m.\u001b[39m_get_scorers(convert_multimetric\u001b[38;5;241m=\u001b[39m\u001b[38;5;28;01mFalse\u001b[39;00m)\n\u001b[0;32m--> 874\u001b[0m X, y \u001b[38;5;241m=\u001b[39m indexable(X, y)\n\u001b[1;32m    875\u001b[0m params \u001b[38;5;241m=\u001b[39m _check_method_params(X, params\u001b[38;5;241m=\u001b[39mparams)\n\u001b[1;32m    877\u001b[0m routed_params \u001b[38;5;241m=\u001b[39m \u001b[38;5;28mself\u001b[39m\u001b[38;5;241m.\u001b[39m_get_routed_params_for_fit(params)\n",
      "File \u001b[0;32m~/anaconda3/lib/python3.11/site-packages/sklearn/utils/validation.py:514\u001b[0m, in \u001b[0;36mindexable\u001b[0;34m(*iterables)\u001b[0m\n\u001b[1;32m    484\u001b[0m \u001b[38;5;250m\u001b[39m\u001b[38;5;124;03m\"\"\"Make arrays indexable for cross-validation.\u001b[39;00m\n\u001b[1;32m    485\u001b[0m \n\u001b[1;32m    486\u001b[0m \u001b[38;5;124;03mChecks consistent length, passes through None, and ensures that everything\u001b[39;00m\n\u001b[0;32m   (...)\u001b[0m\n\u001b[1;32m    510\u001b[0m \u001b[38;5;124;03m[[1, 2, 3], array([2, 3, 4]), None, <3x1 sparse matrix ...>]\u001b[39;00m\n\u001b[1;32m    511\u001b[0m \u001b[38;5;124;03m\"\"\"\u001b[39;00m\n\u001b[1;32m    513\u001b[0m result \u001b[38;5;241m=\u001b[39m [_make_indexable(X) \u001b[38;5;28;01mfor\u001b[39;00m X \u001b[38;5;129;01min\u001b[39;00m iterables]\n\u001b[0;32m--> 514\u001b[0m check_consistent_length(\u001b[38;5;241m*\u001b[39mresult)\n\u001b[1;32m    515\u001b[0m \u001b[38;5;28;01mreturn\u001b[39;00m result\n",
      "File \u001b[0;32m~/anaconda3/lib/python3.11/site-packages/sklearn/utils/validation.py:457\u001b[0m, in \u001b[0;36mcheck_consistent_length\u001b[0;34m(*arrays)\u001b[0m\n\u001b[1;32m    455\u001b[0m uniques \u001b[38;5;241m=\u001b[39m np\u001b[38;5;241m.\u001b[39munique(lengths)\n\u001b[1;32m    456\u001b[0m \u001b[38;5;28;01mif\u001b[39;00m \u001b[38;5;28mlen\u001b[39m(uniques) \u001b[38;5;241m>\u001b[39m \u001b[38;5;241m1\u001b[39m:\n\u001b[0;32m--> 457\u001b[0m     \u001b[38;5;28;01mraise\u001b[39;00m \u001b[38;5;167;01mValueError\u001b[39;00m(\n\u001b[1;32m    458\u001b[0m         \u001b[38;5;124m\"\u001b[39m\u001b[38;5;124mFound input variables with inconsistent numbers of samples: \u001b[39m\u001b[38;5;132;01m%r\u001b[39;00m\u001b[38;5;124m\"\u001b[39m\n\u001b[1;32m    459\u001b[0m         \u001b[38;5;241m%\u001b[39m [\u001b[38;5;28mint\u001b[39m(l) \u001b[38;5;28;01mfor\u001b[39;00m l \u001b[38;5;129;01min\u001b[39;00m lengths]\n\u001b[1;32m    460\u001b[0m     )\n",
      "\u001b[0;31mValueError\u001b[0m: Found input variables with inconsistent numbers of samples: [20, 10]"
     ]
    }
   ],
   "source": [
    "active_test_errors = []\n",
    "active_select_points = []\n",
    "\n",
    "param_grid = {'C': [0.1, 1, 10]}\n",
    "\n",
    "for iteration in range(2):\n",
    "    active_points = []\n",
    "    active_selected_y = []\n",
    "\n",
    "    for n_points in range(10, 901, 10):\n",
    "        active_selected = np.random.choice(len(X_train), size = 10, replace=False)\n",
    "        active_data_points = X_train[active_selected]\n",
    "        active_selected_labels = y_train[active_selected]\n",
    "        \n",
    "        #print(\"Active_points:\", len(active_points))\n",
    "        #print(\"Active_selected_y:\", len(active_selected_y))\n",
    "        \n",
    "        active_points.extend(active_data_points)\n",
    "        active_selected_y.extend(active_selected_labels)\n",
    "        active_select_points.append(len(active_points))\n",
    "        \n",
    "        #print(\"Active_points:\", len(active_points))\n",
    "        #print(\"Active_selected_y:\", len(active_selected_y))\n",
    "\n",
    "        \n",
    "        active_svm=GridSearchCV(LinearSVC(penalty = 'l1', dual = False), param_grid, cv=5)\n",
    "\n",
    "\n",
    "        active_svm.fit(active_points, active_selected_y)\n",
    "        \n",
    "        best_estimator=active_svm.best_estimator_\n",
    "        active_hyperplane=best_estimator.coef_.flatten()\n",
    "        distance = np.abs(best_estimator.decision_function(X_train))\n",
    "        active_sorted=np.argsort(distance)\n",
    "        \n",
    "        closest_points=active_sorted[:10]\n",
    "        closest_data_points=X_train[closest_points]\n",
    "        \n",
    "        active_points.extend(closest_data_points)\n",
    "        active_svm.fit(active_points, active_selected_y)\n",
    "        \n",
    "        active_test_error = 1 - np.mean(cross_val_score(active_svm, X_test, y_test, cv=5))\n",
    "        active_test_errors.append(active_test_error)\n",
    "\n",
    "        \n",
    "active_test_error = pd.DataFrame(active_test_errors, columns=['Test Errors'])\n",
    "        \n",
    "active_test_error\n"
   ]
  },
  {
   "cell_type": "markdown",
   "metadata": {},
   "source": [
    "### (c) Average the 50 test errors"
   ]
  },
  {
   "cell_type": "code",
   "execution_count": 48,
   "metadata": {},
   "outputs": [
    {
     "ename": "ValueError",
     "evalue": "cannot reshape array of size 180 into shape (90,50)",
     "output_type": "error",
     "traceback": [
      "\u001b[0;31m---------------------------------------------------------------------------\u001b[0m",
      "\u001b[0;31mValueError\u001b[0m                                Traceback (most recent call last)",
      "Cell \u001b[0;32mIn[48], line 4\u001b[0m\n\u001b[1;32m      1\u001b[0m passive_test_errors \u001b[38;5;241m=\u001b[39m np\u001b[38;5;241m.\u001b[39marray(passive_test_errors)\n\u001b[1;32m      2\u001b[0m active_test_errors \u001b[38;5;241m=\u001b[39m np\u001b[38;5;241m.\u001b[39marray(active_test_errors)\n\u001b[0;32m----> 4\u001b[0m passive_test_errors \u001b[38;5;241m=\u001b[39m passive_test_errors\u001b[38;5;241m.\u001b[39mreshape((\u001b[38;5;241m90\u001b[39m, \u001b[38;5;241m50\u001b[39m))\n\u001b[1;32m      5\u001b[0m active_test_errors \u001b[38;5;241m=\u001b[39m active_test_errors\u001b[38;5;241m.\u001b[39mreshape((\u001b[38;5;241m90\u001b[39m, \u001b[38;5;241m50\u001b[39m))\n\u001b[1;32m      7\u001b[0m passive_avg_errors \u001b[38;5;241m=\u001b[39m np\u001b[38;5;241m.\u001b[39mmean(passive_test_errors, axis\u001b[38;5;241m=\u001b[39m\u001b[38;5;241m1\u001b[39m)\n",
      "\u001b[0;31mValueError\u001b[0m: cannot reshape array of size 180 into shape (90,50)"
     ]
    }
   ],
   "source": [
    "passive_test_errors = np.array(passive_test_errors)\n",
    "active_test_errors = np.array(active_test_errors)\n",
    "\n",
    "passive_test_errors = passive_test_errors.reshape((90, 50))\n",
    "active_test_errors = active_test_errors.reshape((90, 50))\n",
    "\n",
    "passive_avg_errors = np.mean(passive_test_errors, axis=1)\n",
    "active_avg_errors = np.mean(active_test_errors, axis=1)\n",
    "\n",
    "passive_avg = np.mean(passive_avg_errors)\n",
    "active_avg = np.mean(active_avg_errors)\n",
    "\n",
    "test_errors = pd.DataFrame({\n",
    "    'Instances': range(10, 901, 10),\n",
    "    'Passive Average Test Error': passive_avg_errors,\n",
    "    'Active Average Test Error': active_avg_errors})\n"
   ]
  },
  {
   "cell_type": "markdown",
   "metadata": {},
   "source": [
    "#### References"
   ]
  },
  {
   "cell_type": "markdown",
   "metadata": {},
   "source": [
    "- LinearSVC: https://scikit-learn.org/stable/modules/generated/sklearn.svm.LinearSVC.html\n",
    "- GridSearchCV: https://scikit-learn.org/stable/modules/generated/sklearn.model_selection.GridSearchCV.html\n",
    "- make_pipeline: https://scikit-learn.org/stable/modules/generated/sklearn.pipeline.make_pipeline.html\n",
    "- ROC Plot: https://scikit-learn.org/1.1/auto_examples/model_selection/plot_roc.html\n",
    "- KMeans: https://scikit-learn.org/stable/modules/generated/sklearn.cluster.KMeans.html\n",
    "- SpectralClustering: https://scikit-learn.org/stable/modules/generated/sklearn.cluster.SpectralClustering.html\n",
    "\n",
    "\n"
   ]
  }
 ],
 "metadata": {
  "kernelspec": {
   "display_name": "Python 3 (ipykernel)",
   "language": "python",
   "name": "python3"
  },
  "language_info": {
   "codemirror_mode": {
    "name": "ipython",
    "version": 3
   },
   "file_extension": ".py",
   "mimetype": "text/x-python",
   "name": "python",
   "nbconvert_exporter": "python",
   "pygments_lexer": "ipython3",
   "version": "3.11.5"
  },
  "vscode": {
   "interpreter": {
    "hash": "3c20c2d94d2527936fe0f3a300eb11db30fed84423423838e2f93b74eb7aaebc"
   }
  }
 },
 "nbformat": 4,
 "nbformat_minor": 2
}
